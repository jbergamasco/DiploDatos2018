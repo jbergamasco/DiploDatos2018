{
 "cells": [
  {
   "cell_type": "markdown",
   "metadata": {},
   "source": [
    "<center>\n",
    "<h4>Diplomatura AACSyA 2018 - FaMAF - UNC</h4>\n",
    "<h3>Análisis y visualización de datos</h3>\n",
    "</center>\n",
    "\n",
    "# Tarea integradora - Parte 1\n",
    "\n",
    "En esta notebook presentamos una serie de ejercicios para trabajar con variables aleatorias discretas, tanto númericas como cátegoricas, ejemplificando los conceptos de probabilidad explicados en clase. Lo primero es determinar si todas las librerías están correctamente instaladas."
   ]
  },
  {
   "cell_type": "code",
   "execution_count": 1,
   "metadata": {},
   "outputs": [],
   "source": [
    "# %matplotlib notebook\n",
    "%matplotlib inline\n",
    "import pandas\n",
    "import numpy\n",
    "import seaborn "
   ]
  },
  {
   "cell_type": "code",
   "execution_count": 2,
   "metadata": {},
   "outputs": [],
   "source": [
    "seaborn.set_style('whitegrid')\n",
    "seaborn.set_context('talk')"
   ]
  },
  {
   "cell_type": "markdown",
   "metadata": {},
   "source": [
    "## Cargar el dataset en un dataframe de pandas\n",
    "\n",
    "Los dataframes son tablas con un montón de operaciones ya programadas. Prácticamente todas las funciones de SQL se pueden realizar en pandas con pocas líneas. Además de eso, tiene funciones para leer y escribir archivos en numerosos formatos.\n",
    "\n",
    "Ahora leemos directamente el archivo .csv"
   ]
  },
  {
   "cell_type": "code",
   "execution_count": 3,
   "metadata": {},
   "outputs": [],
   "source": [
    "dataset = pandas.read_csv('https://cs.famaf.unc.edu.ar/~mteruel/datasets/diplodatos/violencia-institucional-2018-01.csv',\n",
    "                          encoding='utf8')"
   ]
  },
  {
   "cell_type": "code",
   "execution_count": 4,
   "metadata": {
    "scrolled": true
   },
   "outputs": [
    {
     "data": {
      "text/html": [
       "<div>\n",
       "<style scoped>\n",
       "    .dataframe tbody tr th:only-of-type {\n",
       "        vertical-align: middle;\n",
       "    }\n",
       "\n",
       "    .dataframe tbody tr th {\n",
       "        vertical-align: top;\n",
       "    }\n",
       "\n",
       "    .dataframe thead th {\n",
       "        text-align: right;\n",
       "    }\n",
       "</style>\n",
       "<table border=\"1\" class=\"dataframe\">\n",
       "  <thead>\n",
       "    <tr style=\"text-align: right;\">\n",
       "      <th></th>\n",
       "      <th>area</th>\n",
       "      <th>organismo_origen</th>\n",
       "      <th>via_acceso</th>\n",
       "      <th>año</th>\n",
       "      <th>provincia</th>\n",
       "      <th>contexto</th>\n",
       "      <th>contexto1</th>\n",
       "      <th>circunstancia</th>\n",
       "      <th>alojamiento</th>\n",
       "      <th>violencia_fisica</th>\n",
       "      <th>violencia_psiquica</th>\n",
       "      <th>violencia_genero</th>\n",
       "      <th>violencia_salud</th>\n",
       "      <th>resumen_hecho</th>\n",
       "      <th>descripcion_institucion</th>\n",
       "      <th>establecimiento</th>\n",
       "      <th>Unnamed: 16</th>\n",
       "    </tr>\n",
       "  </thead>\n",
       "  <tbody>\n",
       "    <tr>\n",
       "      <th>0</th>\n",
       "      <td>DNPCVI</td>\n",
       "      <td>SECRETARIA DE DDHH</td>\n",
       "      <td>Telefónica</td>\n",
       "      <td>2017,00</td>\n",
       "      <td>Buenos Aires</td>\n",
       "      <td>Situaciones de Detención</td>\n",
       "      <td>Penal / Complejo Penitenciario PROVINCIAL</td>\n",
       "      <td>NaN</td>\n",
       "      <td>NaN</td>\n",
       "      <td>NaN</td>\n",
       "      <td>NaN</td>\n",
       "      <td>NaN</td>\n",
       "      <td>Denegación acceso atención médica</td>\n",
       "      <td>NaN</td>\n",
       "      <td>Servicio Penitenciario Provincial</td>\n",
       "      <td>UPP Nº 13 Junin</td>\n",
       "      <td>NaN</td>\n",
       "    </tr>\n",
       "    <tr>\n",
       "      <th>1</th>\n",
       "      <td>DNPCVI</td>\n",
       "      <td>SECRETARIA DE DDHH</td>\n",
       "      <td>Telefónica</td>\n",
       "      <td>2017,00</td>\n",
       "      <td>Buenos Aires</td>\n",
       "      <td>Situaciones de Detención</td>\n",
       "      <td>Penal / Complejo Penitenciario PROVINCIAL</td>\n",
       "      <td>NaN</td>\n",
       "      <td>Malas condiciones de alojamiento (higiene), Hu...</td>\n",
       "      <td>NaN</td>\n",
       "      <td>NaN</td>\n",
       "      <td>NaN</td>\n",
       "      <td>Denegación acceso atención médica</td>\n",
       "      <td>NaN</td>\n",
       "      <td>Servicio Penitenciario Provincial</td>\n",
       "      <td>UPP Nº 13 DE JUNIN</td>\n",
       "      <td>NaN</td>\n",
       "    </tr>\n",
       "    <tr>\n",
       "      <th>2</th>\n",
       "      <td>DNPCVI</td>\n",
       "      <td>SECRETARIA DE DDHH</td>\n",
       "      <td>Telefónica</td>\n",
       "      <td>2017,00</td>\n",
       "      <td>Buenos Aires</td>\n",
       "      <td>Situaciones de Detención</td>\n",
       "      <td>Penal / Complejo Penitenciario PROVINCIAL</td>\n",
       "      <td>NaN</td>\n",
       "      <td>Malas condiciones de alojamiento (higiene)</td>\n",
       "      <td>NaN</td>\n",
       "      <td>NaN</td>\n",
       "      <td>NaN</td>\n",
       "      <td>NaN</td>\n",
       "      <td>NaN</td>\n",
       "      <td>Servicio Penitenciario Provincial</td>\n",
       "      <td>UPP Nº 36 de Magdalena</td>\n",
       "      <td>NaN</td>\n",
       "    </tr>\n",
       "  </tbody>\n",
       "</table>\n",
       "</div>"
      ],
      "text/plain": [
       "     area    organismo_origen  via_acceso      año     provincia  \\\n",
       "0  DNPCVI  SECRETARIA DE DDHH  Telefónica  2017,00  Buenos Aires   \n",
       "1  DNPCVI  SECRETARIA DE DDHH  Telefónica  2017,00  Buenos Aires   \n",
       "2  DNPCVI  SECRETARIA DE DDHH  Telefónica  2017,00  Buenos Aires   \n",
       "\n",
       "                   contexto                                  contexto1  \\\n",
       "0  Situaciones de Detención  Penal / Complejo Penitenciario PROVINCIAL   \n",
       "1  Situaciones de Detención  Penal / Complejo Penitenciario PROVINCIAL   \n",
       "2  Situaciones de Detención  Penal / Complejo Penitenciario PROVINCIAL   \n",
       "\n",
       "  circunstancia                                        alojamiento  \\\n",
       "0           NaN                                                NaN   \n",
       "1           NaN  Malas condiciones de alojamiento (higiene), Hu...   \n",
       "2           NaN         Malas condiciones de alojamiento (higiene)   \n",
       "\n",
       "  violencia_fisica violencia_psiquica violencia_genero  \\\n",
       "0              NaN                NaN              NaN   \n",
       "1              NaN                NaN              NaN   \n",
       "2              NaN                NaN              NaN   \n",
       "\n",
       "                     violencia_salud  resumen_hecho  \\\n",
       "0  Denegación acceso atención médica            NaN   \n",
       "1  Denegación acceso atención médica            NaN   \n",
       "2                                NaN            NaN   \n",
       "\n",
       "             descripcion_institucion         establecimiento  Unnamed: 16  \n",
       "0  Servicio Penitenciario Provincial         UPP Nº 13 Junin          NaN  \n",
       "1  Servicio Penitenciario Provincial      UPP Nº 13 DE JUNIN          NaN  \n",
       "2  Servicio Penitenciario Provincial  UPP Nº 36 de Magdalena          NaN  "
      ]
     },
     "execution_count": 4,
     "metadata": {},
     "output_type": "execute_result"
    }
   ],
   "source": [
    "dataset[:3]"
   ]
  },
  {
   "cell_type": "markdown",
   "metadata": {},
   "source": [
    "Los valores para los años no tienen un formato consistente en todas las filas, por lo que los procesaremos antes de comenzar. Los valores de año faltantes son reemplazados por NaN, y como la representación de enteros de numpy no soporta este tipo de valores, convertiremos cada año a tipo numpy.float. Otras decisiones pueden ser tomadas en este punto, como reemplazar los valores faltantes por 0 o elminarlos del dataset, dependiendo del tipo de datos que se requiera.\n",
    "\n",
    "También cambiaremos el nombre de la columna año, ya que el caracter ñ no permite utilizar el syntax sugar de pandas donde se obtienen los valores de la columna con la sintáxis de llamar a un método."
   ]
  },
  {
   "cell_type": "code",
   "execution_count": 5,
   "metadata": {},
   "outputs": [],
   "source": [
    "import six\n",
    "def convert_to_int(row):\n",
    "    try:\n",
    "        return float(row)\n",
    "    except ValueError:\n",
    "        if isinstance(row, six.string_types):\n",
    "            return float(row.split(',')[0])\n",
    "        return row\n",
    "\n",
    "dataset.loc[:,'year'] = dataset[u'año'].apply(convert_to_int)\n",
    "# Se podrían también decodicar los nombres de provincias\n",
    "# dataset.loc[:,'provincia'] = dataset.provincia.apply(lambda x: x.decode(\"utf-8\"))"
   ]
  },
  {
   "cell_type": "code",
   "execution_count": 6,
   "metadata": {},
   "outputs": [
    {
     "data": {
      "text/plain": [
       "((1439, 18), (1316,))"
      ]
     },
     "execution_count": 6,
     "metadata": {},
     "output_type": "execute_result"
    }
   ],
   "source": [
    "dataset.shape, dataset.year.dropna().shape"
   ]
  },
  {
   "cell_type": "markdown",
   "metadata": {},
   "source": [
    "---\n",
    "# Ejercicios"
   ]
  },
  {
   "cell_type": "markdown",
   "metadata": {},
   "source": [
    "## Ejercicio 1\n",
    "\n",
    "* Crear una imagen mostrando la distribución de los eventos por año.\n",
    "\n",
    "* Construir una tabla de frecuencia de probabilidades dado el evento Y = ’año en el que ocurrió’:\n",
    "\n",
    "$$fdp(Y)$$\n",
    "\n",
    "* Crear una imagen de dichas probabilidades con el gráfico que considere adecuado. ¿Son ambos gráficos iguales? ¿Cuál considera que es más útil?\n",
    "\n",
    "* ¿A qué se debe la forma de la distribución? ¿Qué tendencia muestra? ¿Ha aumentado la violencia institucional en los últimos años?\n",
    "\n",
    "* Calcular la función de distribución acumulada de la variable Y y graficarla. ¿Cuál es la probabilidad de que haya dado un acto de violencia antes del último cambio de gobierno?\n",
    "\n",
    "IMPORTANTE: ¿Qué hacemos con los datos faltantes?"
   ]
  },
  {
   "cell_type": "markdown",
   "metadata": {},
   "source": [
    "En una primera instancia, calculamos la distribución de los eventos según el año en el que se produjeron."
   ]
  },
  {
   "cell_type": "markdown",
   "metadata": {},
   "source": [
    "<div class=\"alert alert-block alert-info\">\n",
    "Para calcular la frecuencia por año, optamos por **descartar** los eventos que no tenían datos en este campo\n",
    "</div>"
   ]
  },
  {
   "cell_type": "code",
   "execution_count": 7,
   "metadata": {},
   "outputs": [
    {
     "data": {
      "text/plain": [
       "1988.0      1\n",
       "1989.0      1\n",
       "1990.0      5\n",
       "1991.0      5\n",
       "1993.0      2\n",
       "1994.0      3\n",
       "1996.0      1\n",
       "1997.0      1\n",
       "1998.0      2\n",
       "1999.0      2\n",
       "2000.0      3\n",
       "2001.0      3\n",
       "2002.0      7\n",
       "2003.0      9\n",
       "2004.0      2\n",
       "2005.0      3\n",
       "2006.0      3\n",
       "2007.0      5\n",
       "2008.0      5\n",
       "2009.0     10\n",
       "2010.0     21\n",
       "2011.0     16\n",
       "2012.0     62\n",
       "2013.0    285\n",
       "2014.0    241\n",
       "2015.0     87\n",
       "2016.0    297\n",
       "2017.0    234\n",
       "Name: year, dtype: int64"
      ]
     },
     "execution_count": 7,
     "metadata": {},
     "output_type": "execute_result"
    }
   ],
   "source": [
    "fq_year = dataset.year.value_counts()\n",
    "fq_year.sort_index(0)"
   ]
  },
  {
   "cell_type": "markdown",
   "metadata": {},
   "source": [
    "La siguiente imagen muestra la distribución de los eventos por año."
   ]
  },
  {
   "cell_type": "code",
   "execution_count": 39,
   "metadata": {},
   "outputs": [
    {
     "data": {
      "image/png": "[encoded data removed]",
      "text/plain": [
       "<matplotlib.figure.Figure at 0x2188f7e5630>"
      ]
     },
     "metadata": {},
     "output_type": "display_data"
    }
   ],
   "source": [
    "graph = seaborn.barplot(data=fq_year.to_frame().reset_index(),\n",
    "    x='index', y='year', color='#2ecc71')\n",
    "graph.set_xticklabels(graph.get_xticklabels(), rotation=70, ha=\"right\")\n",
    "graph.set_ylabel('Cantidad de Eventos de Violencia')\n",
    "graph.set_xlabel('Año')\n",
    "seaborn.despine()"
   ]
  },
  {
   "cell_type": "markdown",
   "metadata": {},
   "source": [
    "La tabla de **frecuencia de probabilidades** de los eventos por año se calcula como sigue:"
   ]
  },
  {
   "cell_type": "code",
   "execution_count": 9,
   "metadata": {},
   "outputs": [
    {
     "data": {
      "text/plain": [
       "1988.0    0.000760\n",
       "1989.0    0.000760\n",
       "1990.0    0.003799\n",
       "1991.0    0.003799\n",
       "1993.0    0.001520\n",
       "1994.0    0.002280\n",
       "1996.0    0.000760\n",
       "1997.0    0.000760\n",
       "1998.0    0.001520\n",
       "1999.0    0.001520\n",
       "2000.0    0.002280\n",
       "2001.0    0.002280\n",
       "2002.0    0.005319\n",
       "2003.0    0.006839\n",
       "2004.0    0.001520\n",
       "2005.0    0.002280\n",
       "2006.0    0.002280\n",
       "2007.0    0.003799\n",
       "2008.0    0.003799\n",
       "2009.0    0.007599\n",
       "2010.0    0.015957\n",
       "2011.0    0.012158\n",
       "2012.0    0.047112\n",
       "2013.0    0.216565\n",
       "2014.0    0.183131\n",
       "2015.0    0.066109\n",
       "2016.0    0.225684\n",
       "2017.0    0.177812\n",
       "Name: year, dtype: float64"
      ]
     },
     "execution_count": 9,
     "metadata": {},
     "output_type": "execute_result"
    }
   ],
   "source": [
    "fdp_year = dataset.year.value_counts(normalize=True)\n",
    "fdp_year.sort_index(0)"
   ]
  },
  {
   "cell_type": "markdown",
   "metadata": {},
   "source": [
    "El siguiente gráfico de barras muestra la **distribución de probabilidades** de los eventos según el año. La diferencia con el anterior es la **escala del eje Y**, que ahora indica una probabilidad en lugar de una frecuencia absoluta."
   ]
  },
  {
   "cell_type": "code",
   "execution_count": 40,
   "metadata": {},
   "outputs": [
    {
     "data": {
      "image/png": "[encoded data removed]",
      "text/plain": [
       "<matplotlib.figure.Figure at 0x218910645c0>"
      ]
     },
     "metadata": {},
     "output_type": "display_data"
    }
   ],
   "source": [
    "graph_fdp = seaborn.barplot(data=fdp_year.to_frame().reset_index(),\n",
    "    x='index', y='year', color='#ff5050')\n",
    "graph_fdp.set_xticklabels(graph_fdp.get_xticklabels(), rotation=70, ha=\"right\")\n",
    "graph_fdp.set_ylabel('Probabilidad')\n",
    "graph_fdp.set_xlabel('Año')\n",
    "seaborn.despine()"
   ]
  },
  {
   "cell_type": "markdown",
   "metadata": {},
   "source": [
    "La forma de la distribución puede deberse a un **aumento exponencial en la cantidad absoluta de casos de violencia institucional**. Aún si los casos con datos faltantes corresponden a registros anteriores al año 2013, estaremos observando una distribución sólo levemente distorsionada o sesgada, ya que estos casos no representan un porcentaje significativo sobre el total (8.5%).\n",
    "\n",
    "Luego, la cantidad de casos de violencia institucional muestra una **tendencia creciente en el tiempo**. De todos modos, es necesario considerar otra variable que pondere esta cantidad para hacerla comparable en el tiempo, como por ejemplo la población de cada año."
   ]
  },
  {
   "cell_type": "markdown",
   "metadata": {},
   "source": [
    "A continuación, calculamos la función de distribución acumulada de los casos de violencia institucional a través de los años."
   ]
  },
  {
   "cell_type": "code",
   "execution_count": 41,
   "metadata": {
    "scrolled": false
   },
   "outputs": [
    {
     "data": {
      "image/png": "[encoded data removed]",
      "text/plain": [
       "<matplotlib.figure.Figure at 0x2188f9bb828>"
      ]
     },
     "metadata": {},
     "output_type": "display_data"
    }
   ],
   "source": [
    "fdp_acum = fdp_year.sort_index(0).cumsum()\n",
    "\n",
    "graph_fdp_acum = seaborn.pointplot(data=fdp_acum.to_frame().reset_index(),\n",
    "    x='index', y='year', markers=[\"o\"], linestyles=[\"-\"], color='#9b59b6')\n",
    "graph_fdp_acum.set_xticklabels(graph_fdp_acum.get_xticklabels(), rotation=70, ha=\"right\")\n",
    "graph_fdp_acum.set_ylabel('Probabilidad')\n",
    "graph_fdp_acum.set_xlabel('Año')\n",
    "\n",
    "seaborn.despine()"
   ]
  },
  {
   "cell_type": "markdown",
   "metadata": {},
   "source": [
    "El gráfico muestra esta función de distribución acumulada."
   ]
  },
  {
   "cell_type": "code",
   "execution_count": 12,
   "metadata": {
    "scrolled": true
   },
   "outputs": [
    {
     "data": {
      "text/html": [
       "<div>\n",
       "<style scoped>\n",
       "    .dataframe tbody tr th:only-of-type {\n",
       "        vertical-align: middle;\n",
       "    }\n",
       "\n",
       "    .dataframe tbody tr th {\n",
       "        vertical-align: top;\n",
       "    }\n",
       "\n",
       "    .dataframe thead th {\n",
       "        text-align: right;\n",
       "    }\n",
       "</style>\n",
       "<table border=\"1\" class=\"dataframe\">\n",
       "  <thead>\n",
       "    <tr style=\"text-align: right;\">\n",
       "      <th></th>\n",
       "      <th>index</th>\n",
       "      <th>year</th>\n",
       "    </tr>\n",
       "  </thead>\n",
       "  <tbody>\n",
       "    <tr>\n",
       "      <th>25</th>\n",
       "      <td>2015.0</td>\n",
       "      <td>0.596505</td>\n",
       "    </tr>\n",
       "  </tbody>\n",
       "</table>\n",
       "</div>"
      ],
      "text/plain": [
       "     index      year\n",
       "25  2015.0  0.596505"
      ]
     },
     "execution_count": 12,
     "metadata": {},
     "output_type": "execute_result"
    }
   ],
   "source": [
    "x = fdp_acum.reset_index()\n",
    "x[x['index'] == 2015]"
   ]
  },
  {
   "cell_type": "markdown",
   "metadata": {},
   "source": [
    "Finalmente, la probabilidad de que se haya producido un acto de violencia institucional antes del último cambio de gobierno es de 0.5965."
   ]
  },
  {
   "cell_type": "markdown",
   "metadata": {},
   "source": [
    "## Ejercicio 2\n",
    "\n",
    "* Construir una tabla de frecuencia de probabilidades dado el evento X = ’provincia donde se desarrollo el hecho’\n",
    "\n",
    "$$fdp(X)$$\n",
    "\n",
    "* ¿Qué información adicional es necesaria para mostrar estos datos de manera más adecuada?\n",
    "* Muestre la distribución de los eventos visualmente. ¿Qué tipo de gráfico es más adecuado para mostrar esta información?"
   ]
  },
  {
   "cell_type": "markdown",
   "metadata": {},
   "source": [
    "Calculamos la **tabla de frecuencia de probabilidades** de los eventos según la provincia en la que se produjeron"
   ]
  },
  {
   "cell_type": "markdown",
   "metadata": {},
   "source": [
    "<div class=\"alert alert-block alert-info\">\n",
    "Nuevamente, para calcular la frecuencia por provincia, optamos por **descartar** los eventos que no tenían datos en este campo.\n",
    "</div>"
   ]
  },
  {
   "cell_type": "code",
   "execution_count": 13,
   "metadata": {},
   "outputs": [
    {
     "data": {
      "text/plain": [
       "Buenos Aires              0.693182\n",
       "Ciudad de Buenos Aires    0.083097\n",
       "Córdoba                   0.036932\n",
       "Chubut                    0.026278\n",
       "Chaco                     0.020597\n",
       "Rio Negro                 0.019176\n",
       "Neuquen                   0.014915\n",
       "Santa Fe                  0.014205\n",
       "Salta                     0.012074\n",
       "Mendoza                   0.012074\n",
       "Misiones                  0.007812\n",
       "La Pampa                  0.007102\n",
       "Tucuman                   0.007102\n",
       "Santiago del Estero       0.007102\n",
       "Formosa                   0.007102\n",
       "Entre Rios                0.006392\n",
       "Jujuy                     0.006392\n",
       "La Rioja                  0.004261\n",
       "Corrientes                0.003551\n",
       "Santa Cruz                0.002841\n",
       "San Luis                  0.002841\n",
       "San Juan                  0.002131\n",
       "Catamarca                 0.001420\n",
       "Tierra del Fuego          0.001420\n",
       "Name: provincia, dtype: float64"
      ]
     },
     "execution_count": 13,
     "metadata": {},
     "output_type": "execute_result"
    }
   ],
   "source": [
    "fdp_provincia = dataset.provincia.value_counts(normalize=True)\n",
    "fdp_provincia"
   ]
  },
  {
   "cell_type": "markdown",
   "metadata": {},
   "source": [
    "Para mostrar estos datos de manera adecuada, sería necesaria una variable normalizadora que haga las ocurrencias de eventos por provincia **comparables**. Podrían ser, por ejemplo, la población o el territorio en km2."
   ]
  },
  {
   "cell_type": "markdown",
   "metadata": {},
   "source": [
    "Para mostrar la distribución de los eventos por provincia elegimos un **gráfico de barras**. Además, utilizamos una **escala logarítmica**, que nos permite capturar mejor la variabilidad entre provincias, dada la gran diferencia que presentan Buenos Aires y CABA respecto al resto del país."
   ]
  },
  {
   "cell_type": "code",
   "execution_count": 42,
   "metadata": {},
   "outputs": [
    {
     "name": "stderr",
     "output_type": "stream",
     "text": [
      "C:\\Users\\Julieta\\Anaconda3\\lib\\site-packages\\matplotlib\\scale.py:111: RuntimeWarning: invalid value encountered in less_equal\n",
      "  out[a <= 0] = -1000\n"
     ]
    },
    {
     "data": {
      "image/png": "[encoded data removed]",
      "text/plain": [
       "<matplotlib.figure.Figure at 0x21890963dd8>"
      ]
     },
     "metadata": {},
     "output_type": "display_data"
    }
   ],
   "source": [
    "g = seaborn.barplot(x=\"provincia\", y=\"index\", data=fdp_provincia.to_frame().reset_index(),palette=\"Blues_d\")\n",
    "g.set(xscale=\"log\")\n",
    "seaborn.despine()"
   ]
  },
  {
   "cell_type": "markdown",
   "metadata": {},
   "source": [
    "## Ejercicio 3\n",
    "\n",
    "* Construir una tabla de doble entrada donde se observe la función de distribución de probabilidades con las 2 variables aleatorias anteriores.\n",
    "¿Son eventos independientes?\n",
    "\n",
    "* Crear una imagen de dichas probabilidades con el gráfico que considere adecuado.\n"
   ]
  },
  {
   "cell_type": "markdown",
   "metadata": {},
   "source": [
    "Para calcular la **distribución de probabilidades por año y provincia**, construimos la siguiente tabla de doble entrada:"
   ]
  },
  {
   "cell_type": "markdown",
   "metadata": {},
   "source": [
    "<div class=\"alert alert-block alert-info\">\n",
    "En este caso, para calcular la probabilidad conjunta también optamos por **descartar** los eventos con datos faltantes en alguno de estos dos campos.\n",
    "</div>"
   ]
  },
  {
   "cell_type": "code",
   "execution_count": 59,
   "metadata": {},
   "outputs": [
    {
     "data": {
      "text/html": [
       "<div>\n",
       "<style scoped>\n",
       "    .dataframe tbody tr th:only-of-type {\n",
       "        vertical-align: middle;\n",
       "    }\n",
       "\n",
       "    .dataframe tbody tr th {\n",
       "        vertical-align: top;\n",
       "    }\n",
       "\n",
       "    .dataframe thead th {\n",
       "        text-align: right;\n",
       "    }\n",
       "</style>\n",
       "<table border=\"1\" class=\"dataframe\">\n",
       "  <thead>\n",
       "    <tr style=\"text-align: right;\">\n",
       "      <th>year</th>\n",
       "      <th>1988.0</th>\n",
       "      <th>1989.0</th>\n",
       "      <th>1990.0</th>\n",
       "      <th>1991.0</th>\n",
       "      <th>1993.0</th>\n",
       "      <th>1994.0</th>\n",
       "      <th>1996.0</th>\n",
       "      <th>1997.0</th>\n",
       "      <th>1998.0</th>\n",
       "      <th>1999.0</th>\n",
       "      <th>...</th>\n",
       "      <th>2009.0</th>\n",
       "      <th>2010.0</th>\n",
       "      <th>2011.0</th>\n",
       "      <th>2012.0</th>\n",
       "      <th>2013.0</th>\n",
       "      <th>2014.0</th>\n",
       "      <th>2015.0</th>\n",
       "      <th>2016.0</th>\n",
       "      <th>2017.0</th>\n",
       "      <th>All</th>\n",
       "    </tr>\n",
       "    <tr>\n",
       "      <th>provincia</th>\n",
       "      <th></th>\n",
       "      <th></th>\n",
       "      <th></th>\n",
       "      <th></th>\n",
       "      <th></th>\n",
       "      <th></th>\n",
       "      <th></th>\n",
       "      <th></th>\n",
       "      <th></th>\n",
       "      <th></th>\n",
       "      <th></th>\n",
       "      <th></th>\n",
       "      <th></th>\n",
       "      <th></th>\n",
       "      <th></th>\n",
       "      <th></th>\n",
       "      <th></th>\n",
       "      <th></th>\n",
       "      <th></th>\n",
       "      <th></th>\n",
       "      <th></th>\n",
       "    </tr>\n",
       "  </thead>\n",
       "  <tbody>\n",
       "    <tr>\n",
       "      <th>Buenos Aires</th>\n",
       "      <td>0.000000</td>\n",
       "      <td>0.000766</td>\n",
       "      <td>0.000000</td>\n",
       "      <td>0.002299</td>\n",
       "      <td>0.000000</td>\n",
       "      <td>0.000766</td>\n",
       "      <td>0.000000</td>\n",
       "      <td>0.000000</td>\n",
       "      <td>0.000000</td>\n",
       "      <td>0.000000</td>\n",
       "      <td>...</td>\n",
       "      <td>0.003065</td>\n",
       "      <td>0.006130</td>\n",
       "      <td>0.006897</td>\n",
       "      <td>0.016092</td>\n",
       "      <td>0.150192</td>\n",
       "      <td>0.125670</td>\n",
       "      <td>0.037548</td>\n",
       "      <td>0.178544</td>\n",
       "      <td>0.143295</td>\n",
       "      <td>0.685057</td>\n",
       "    </tr>\n",
       "    <tr>\n",
       "      <th>Catamarca</th>\n",
       "      <td>0.000000</td>\n",
       "      <td>0.000000</td>\n",
       "      <td>0.000000</td>\n",
       "      <td>0.000000</td>\n",
       "      <td>0.000000</td>\n",
       "      <td>0.000000</td>\n",
       "      <td>0.000000</td>\n",
       "      <td>0.000000</td>\n",
       "      <td>0.000000</td>\n",
       "      <td>0.000000</td>\n",
       "      <td>...</td>\n",
       "      <td>0.000000</td>\n",
       "      <td>0.000000</td>\n",
       "      <td>0.000000</td>\n",
       "      <td>0.000000</td>\n",
       "      <td>0.000000</td>\n",
       "      <td>0.000000</td>\n",
       "      <td>0.000000</td>\n",
       "      <td>0.000766</td>\n",
       "      <td>0.000000</td>\n",
       "      <td>0.000766</td>\n",
       "    </tr>\n",
       "    <tr>\n",
       "      <th>Chaco</th>\n",
       "      <td>0.000000</td>\n",
       "      <td>0.000000</td>\n",
       "      <td>0.003065</td>\n",
       "      <td>0.000000</td>\n",
       "      <td>0.000000</td>\n",
       "      <td>0.000000</td>\n",
       "      <td>0.000000</td>\n",
       "      <td>0.000000</td>\n",
       "      <td>0.000000</td>\n",
       "      <td>0.000000</td>\n",
       "      <td>...</td>\n",
       "      <td>0.000000</td>\n",
       "      <td>0.000000</td>\n",
       "      <td>0.000000</td>\n",
       "      <td>0.005364</td>\n",
       "      <td>0.006130</td>\n",
       "      <td>0.002299</td>\n",
       "      <td>0.002299</td>\n",
       "      <td>0.002299</td>\n",
       "      <td>0.000766</td>\n",
       "      <td>0.022222</td>\n",
       "    </tr>\n",
       "    <tr>\n",
       "      <th>Chubut</th>\n",
       "      <td>0.000000</td>\n",
       "      <td>0.000000</td>\n",
       "      <td>0.000000</td>\n",
       "      <td>0.000000</td>\n",
       "      <td>0.000000</td>\n",
       "      <td>0.000000</td>\n",
       "      <td>0.000000</td>\n",
       "      <td>0.000000</td>\n",
       "      <td>0.000000</td>\n",
       "      <td>0.000000</td>\n",
       "      <td>...</td>\n",
       "      <td>0.000000</td>\n",
       "      <td>0.002299</td>\n",
       "      <td>0.000000</td>\n",
       "      <td>0.002299</td>\n",
       "      <td>0.004598</td>\n",
       "      <td>0.006897</td>\n",
       "      <td>0.001533</td>\n",
       "      <td>0.001533</td>\n",
       "      <td>0.005364</td>\n",
       "      <td>0.026054</td>\n",
       "    </tr>\n",
       "    <tr>\n",
       "      <th>Ciudad de Buenos Aires</th>\n",
       "      <td>0.000766</td>\n",
       "      <td>0.000000</td>\n",
       "      <td>0.000000</td>\n",
       "      <td>0.001533</td>\n",
       "      <td>0.000000</td>\n",
       "      <td>0.000000</td>\n",
       "      <td>0.000766</td>\n",
       "      <td>0.000766</td>\n",
       "      <td>0.000766</td>\n",
       "      <td>0.000000</td>\n",
       "      <td>...</td>\n",
       "      <td>0.003831</td>\n",
       "      <td>0.000766</td>\n",
       "      <td>0.001533</td>\n",
       "      <td>0.007663</td>\n",
       "      <td>0.017625</td>\n",
       "      <td>0.018391</td>\n",
       "      <td>0.007663</td>\n",
       "      <td>0.008429</td>\n",
       "      <td>0.009195</td>\n",
       "      <td>0.085824</td>\n",
       "    </tr>\n",
       "    <tr>\n",
       "      <th>Corrientes</th>\n",
       "      <td>0.000000</td>\n",
       "      <td>0.000000</td>\n",
       "      <td>0.000000</td>\n",
       "      <td>0.000000</td>\n",
       "      <td>0.000000</td>\n",
       "      <td>0.000000</td>\n",
       "      <td>0.000000</td>\n",
       "      <td>0.000000</td>\n",
       "      <td>0.000000</td>\n",
       "      <td>0.000000</td>\n",
       "      <td>...</td>\n",
       "      <td>0.000000</td>\n",
       "      <td>0.000000</td>\n",
       "      <td>0.000000</td>\n",
       "      <td>0.000000</td>\n",
       "      <td>0.001533</td>\n",
       "      <td>0.000000</td>\n",
       "      <td>0.000766</td>\n",
       "      <td>0.000766</td>\n",
       "      <td>0.000000</td>\n",
       "      <td>0.003065</td>\n",
       "    </tr>\n",
       "    <tr>\n",
       "      <th>Córdoba</th>\n",
       "      <td>0.000000</td>\n",
       "      <td>0.000000</td>\n",
       "      <td>0.000000</td>\n",
       "      <td>0.000000</td>\n",
       "      <td>0.000000</td>\n",
       "      <td>0.000000</td>\n",
       "      <td>0.000000</td>\n",
       "      <td>0.000000</td>\n",
       "      <td>0.000000</td>\n",
       "      <td>0.000000</td>\n",
       "      <td>...</td>\n",
       "      <td>0.000000</td>\n",
       "      <td>0.001533</td>\n",
       "      <td>0.002299</td>\n",
       "      <td>0.003065</td>\n",
       "      <td>0.003831</td>\n",
       "      <td>0.003065</td>\n",
       "      <td>0.009962</td>\n",
       "      <td>0.008429</td>\n",
       "      <td>0.007663</td>\n",
       "      <td>0.039847</td>\n",
       "    </tr>\n",
       "    <tr>\n",
       "      <th>Entre Rios</th>\n",
       "      <td>0.000000</td>\n",
       "      <td>0.000000</td>\n",
       "      <td>0.000000</td>\n",
       "      <td>0.000000</td>\n",
       "      <td>0.000000</td>\n",
       "      <td>0.000000</td>\n",
       "      <td>0.000000</td>\n",
       "      <td>0.000000</td>\n",
       "      <td>0.000000</td>\n",
       "      <td>0.000000</td>\n",
       "      <td>...</td>\n",
       "      <td>0.000000</td>\n",
       "      <td>0.000000</td>\n",
       "      <td>0.000000</td>\n",
       "      <td>0.000766</td>\n",
       "      <td>0.000000</td>\n",
       "      <td>0.006130</td>\n",
       "      <td>0.000000</td>\n",
       "      <td>0.000000</td>\n",
       "      <td>0.000000</td>\n",
       "      <td>0.006897</td>\n",
       "    </tr>\n",
       "    <tr>\n",
       "      <th>Formosa</th>\n",
       "      <td>0.000000</td>\n",
       "      <td>0.000000</td>\n",
       "      <td>0.000000</td>\n",
       "      <td>0.000000</td>\n",
       "      <td>0.000000</td>\n",
       "      <td>0.000000</td>\n",
       "      <td>0.000000</td>\n",
       "      <td>0.000000</td>\n",
       "      <td>0.000000</td>\n",
       "      <td>0.000000</td>\n",
       "      <td>...</td>\n",
       "      <td>0.000000</td>\n",
       "      <td>0.000000</td>\n",
       "      <td>0.000000</td>\n",
       "      <td>0.000000</td>\n",
       "      <td>0.002299</td>\n",
       "      <td>0.002299</td>\n",
       "      <td>0.000766</td>\n",
       "      <td>0.000766</td>\n",
       "      <td>0.000766</td>\n",
       "      <td>0.007663</td>\n",
       "    </tr>\n",
       "    <tr>\n",
       "      <th>Jujuy</th>\n",
       "      <td>0.000000</td>\n",
       "      <td>0.000000</td>\n",
       "      <td>0.000000</td>\n",
       "      <td>0.000000</td>\n",
       "      <td>0.000000</td>\n",
       "      <td>0.000000</td>\n",
       "      <td>0.000000</td>\n",
       "      <td>0.000000</td>\n",
       "      <td>0.000000</td>\n",
       "      <td>0.000000</td>\n",
       "      <td>...</td>\n",
       "      <td>0.000000</td>\n",
       "      <td>0.000766</td>\n",
       "      <td>0.000000</td>\n",
       "      <td>0.000766</td>\n",
       "      <td>0.000766</td>\n",
       "      <td>0.000766</td>\n",
       "      <td>0.000766</td>\n",
       "      <td>0.000000</td>\n",
       "      <td>0.000000</td>\n",
       "      <td>0.005364</td>\n",
       "    </tr>\n",
       "    <tr>\n",
       "      <th>La Pampa</th>\n",
       "      <td>0.000000</td>\n",
       "      <td>0.000000</td>\n",
       "      <td>0.000000</td>\n",
       "      <td>0.000000</td>\n",
       "      <td>0.000000</td>\n",
       "      <td>0.000000</td>\n",
       "      <td>0.000000</td>\n",
       "      <td>0.000000</td>\n",
       "      <td>0.000000</td>\n",
       "      <td>0.000000</td>\n",
       "      <td>...</td>\n",
       "      <td>0.000000</td>\n",
       "      <td>0.000000</td>\n",
       "      <td>0.000000</td>\n",
       "      <td>0.000766</td>\n",
       "      <td>0.003831</td>\n",
       "      <td>0.000000</td>\n",
       "      <td>0.000000</td>\n",
       "      <td>0.003065</td>\n",
       "      <td>0.000000</td>\n",
       "      <td>0.007663</td>\n",
       "    </tr>\n",
       "    <tr>\n",
       "      <th>La Rioja</th>\n",
       "      <td>0.000000</td>\n",
       "      <td>0.000000</td>\n",
       "      <td>0.000000</td>\n",
       "      <td>0.000000</td>\n",
       "      <td>0.000000</td>\n",
       "      <td>0.000000</td>\n",
       "      <td>0.000000</td>\n",
       "      <td>0.000000</td>\n",
       "      <td>0.000000</td>\n",
       "      <td>0.000766</td>\n",
       "      <td>...</td>\n",
       "      <td>0.000000</td>\n",
       "      <td>0.002299</td>\n",
       "      <td>0.000766</td>\n",
       "      <td>0.000000</td>\n",
       "      <td>0.000000</td>\n",
       "      <td>0.000000</td>\n",
       "      <td>0.000000</td>\n",
       "      <td>0.000000</td>\n",
       "      <td>0.000000</td>\n",
       "      <td>0.004598</td>\n",
       "    </tr>\n",
       "    <tr>\n",
       "      <th>Mendoza</th>\n",
       "      <td>0.000000</td>\n",
       "      <td>0.000000</td>\n",
       "      <td>0.000766</td>\n",
       "      <td>0.000000</td>\n",
       "      <td>0.000000</td>\n",
       "      <td>0.000000</td>\n",
       "      <td>0.000000</td>\n",
       "      <td>0.000000</td>\n",
       "      <td>0.000000</td>\n",
       "      <td>0.000000</td>\n",
       "      <td>...</td>\n",
       "      <td>0.000000</td>\n",
       "      <td>0.000000</td>\n",
       "      <td>0.000000</td>\n",
       "      <td>0.000000</td>\n",
       "      <td>0.003065</td>\n",
       "      <td>0.003065</td>\n",
       "      <td>0.001533</td>\n",
       "      <td>0.001533</td>\n",
       "      <td>0.001533</td>\n",
       "      <td>0.012261</td>\n",
       "    </tr>\n",
       "    <tr>\n",
       "      <th>Misiones</th>\n",
       "      <td>0.000000</td>\n",
       "      <td>0.000000</td>\n",
       "      <td>0.000000</td>\n",
       "      <td>0.000000</td>\n",
       "      <td>0.000000</td>\n",
       "      <td>0.000000</td>\n",
       "      <td>0.000000</td>\n",
       "      <td>0.000000</td>\n",
       "      <td>0.000000</td>\n",
       "      <td>0.000000</td>\n",
       "      <td>...</td>\n",
       "      <td>0.000000</td>\n",
       "      <td>0.000000</td>\n",
       "      <td>0.000000</td>\n",
       "      <td>0.001533</td>\n",
       "      <td>0.001533</td>\n",
       "      <td>0.003065</td>\n",
       "      <td>0.000000</td>\n",
       "      <td>0.000000</td>\n",
       "      <td>0.000766</td>\n",
       "      <td>0.008429</td>\n",
       "    </tr>\n",
       "    <tr>\n",
       "      <th>Neuquen</th>\n",
       "      <td>0.000000</td>\n",
       "      <td>0.000000</td>\n",
       "      <td>0.000000</td>\n",
       "      <td>0.000000</td>\n",
       "      <td>0.000000</td>\n",
       "      <td>0.000766</td>\n",
       "      <td>0.000000</td>\n",
       "      <td>0.000000</td>\n",
       "      <td>0.000766</td>\n",
       "      <td>0.000000</td>\n",
       "      <td>...</td>\n",
       "      <td>0.000000</td>\n",
       "      <td>0.000000</td>\n",
       "      <td>0.000000</td>\n",
       "      <td>0.006897</td>\n",
       "      <td>0.003065</td>\n",
       "      <td>0.001533</td>\n",
       "      <td>0.000766</td>\n",
       "      <td>0.000000</td>\n",
       "      <td>0.000000</td>\n",
       "      <td>0.014559</td>\n",
       "    </tr>\n",
       "    <tr>\n",
       "      <th>Rio Negro</th>\n",
       "      <td>0.000000</td>\n",
       "      <td>0.000000</td>\n",
       "      <td>0.000000</td>\n",
       "      <td>0.000000</td>\n",
       "      <td>0.000000</td>\n",
       "      <td>0.000000</td>\n",
       "      <td>0.000000</td>\n",
       "      <td>0.000000</td>\n",
       "      <td>0.000000</td>\n",
       "      <td>0.000000</td>\n",
       "      <td>...</td>\n",
       "      <td>0.000000</td>\n",
       "      <td>0.000000</td>\n",
       "      <td>0.000766</td>\n",
       "      <td>0.000000</td>\n",
       "      <td>0.004598</td>\n",
       "      <td>0.005364</td>\n",
       "      <td>0.000000</td>\n",
       "      <td>0.005364</td>\n",
       "      <td>0.002299</td>\n",
       "      <td>0.019157</td>\n",
       "    </tr>\n",
       "    <tr>\n",
       "      <th>Salta</th>\n",
       "      <td>0.000000</td>\n",
       "      <td>0.000000</td>\n",
       "      <td>0.000000</td>\n",
       "      <td>0.000000</td>\n",
       "      <td>0.000000</td>\n",
       "      <td>0.000000</td>\n",
       "      <td>0.000000</td>\n",
       "      <td>0.000000</td>\n",
       "      <td>0.000000</td>\n",
       "      <td>0.000000</td>\n",
       "      <td>...</td>\n",
       "      <td>0.000000</td>\n",
       "      <td>0.000766</td>\n",
       "      <td>0.000000</td>\n",
       "      <td>0.000000</td>\n",
       "      <td>0.001533</td>\n",
       "      <td>0.000766</td>\n",
       "      <td>0.000000</td>\n",
       "      <td>0.007663</td>\n",
       "      <td>0.000766</td>\n",
       "      <td>0.012261</td>\n",
       "    </tr>\n",
       "    <tr>\n",
       "      <th>San Juan</th>\n",
       "      <td>0.000000</td>\n",
       "      <td>0.000000</td>\n",
       "      <td>0.000000</td>\n",
       "      <td>0.000000</td>\n",
       "      <td>0.000000</td>\n",
       "      <td>0.000000</td>\n",
       "      <td>0.000000</td>\n",
       "      <td>0.000000</td>\n",
       "      <td>0.000000</td>\n",
       "      <td>0.000000</td>\n",
       "      <td>...</td>\n",
       "      <td>0.000000</td>\n",
       "      <td>0.000000</td>\n",
       "      <td>0.000000</td>\n",
       "      <td>0.000000</td>\n",
       "      <td>0.000000</td>\n",
       "      <td>0.000000</td>\n",
       "      <td>0.000000</td>\n",
       "      <td>0.002299</td>\n",
       "      <td>0.000000</td>\n",
       "      <td>0.002299</td>\n",
       "    </tr>\n",
       "    <tr>\n",
       "      <th>San Luis</th>\n",
       "      <td>0.000000</td>\n",
       "      <td>0.000000</td>\n",
       "      <td>0.000000</td>\n",
       "      <td>0.000000</td>\n",
       "      <td>0.001533</td>\n",
       "      <td>0.000000</td>\n",
       "      <td>0.000000</td>\n",
       "      <td>0.000000</td>\n",
       "      <td>0.000000</td>\n",
       "      <td>0.000000</td>\n",
       "      <td>...</td>\n",
       "      <td>0.000000</td>\n",
       "      <td>0.000000</td>\n",
       "      <td>0.000000</td>\n",
       "      <td>0.000000</td>\n",
       "      <td>0.000766</td>\n",
       "      <td>0.000000</td>\n",
       "      <td>0.000000</td>\n",
       "      <td>0.000000</td>\n",
       "      <td>0.000000</td>\n",
       "      <td>0.002299</td>\n",
       "    </tr>\n",
       "    <tr>\n",
       "      <th>Santa Cruz</th>\n",
       "      <td>0.000000</td>\n",
       "      <td>0.000000</td>\n",
       "      <td>0.000000</td>\n",
       "      <td>0.000000</td>\n",
       "      <td>0.000000</td>\n",
       "      <td>0.000000</td>\n",
       "      <td>0.000000</td>\n",
       "      <td>0.000000</td>\n",
       "      <td>0.000000</td>\n",
       "      <td>0.000000</td>\n",
       "      <td>...</td>\n",
       "      <td>0.000000</td>\n",
       "      <td>0.001533</td>\n",
       "      <td>0.000000</td>\n",
       "      <td>0.000000</td>\n",
       "      <td>0.000766</td>\n",
       "      <td>0.000000</td>\n",
       "      <td>0.000000</td>\n",
       "      <td>0.000766</td>\n",
       "      <td>0.000000</td>\n",
       "      <td>0.003065</td>\n",
       "    </tr>\n",
       "    <tr>\n",
       "      <th>Santa Fe</th>\n",
       "      <td>0.000000</td>\n",
       "      <td>0.000000</td>\n",
       "      <td>0.000000</td>\n",
       "      <td>0.000000</td>\n",
       "      <td>0.000000</td>\n",
       "      <td>0.000766</td>\n",
       "      <td>0.000000</td>\n",
       "      <td>0.000000</td>\n",
       "      <td>0.000000</td>\n",
       "      <td>0.000000</td>\n",
       "      <td>...</td>\n",
       "      <td>0.000000</td>\n",
       "      <td>0.000000</td>\n",
       "      <td>0.000000</td>\n",
       "      <td>0.000000</td>\n",
       "      <td>0.006130</td>\n",
       "      <td>0.001533</td>\n",
       "      <td>0.001533</td>\n",
       "      <td>0.000000</td>\n",
       "      <td>0.003831</td>\n",
       "      <td>0.014559</td>\n",
       "    </tr>\n",
       "    <tr>\n",
       "      <th>Santiago del Estero</th>\n",
       "      <td>0.000000</td>\n",
       "      <td>0.000000</td>\n",
       "      <td>0.000000</td>\n",
       "      <td>0.000000</td>\n",
       "      <td>0.000000</td>\n",
       "      <td>0.000000</td>\n",
       "      <td>0.000000</td>\n",
       "      <td>0.000000</td>\n",
       "      <td>0.000000</td>\n",
       "      <td>0.000000</td>\n",
       "      <td>...</td>\n",
       "      <td>0.000000</td>\n",
       "      <td>0.000000</td>\n",
       "      <td>0.000000</td>\n",
       "      <td>0.000000</td>\n",
       "      <td>0.002299</td>\n",
       "      <td>0.000766</td>\n",
       "      <td>0.000000</td>\n",
       "      <td>0.003065</td>\n",
       "      <td>0.001533</td>\n",
       "      <td>0.007663</td>\n",
       "    </tr>\n",
       "    <tr>\n",
       "      <th>Tierra del Fuego</th>\n",
       "      <td>0.000000</td>\n",
       "      <td>0.000000</td>\n",
       "      <td>0.000000</td>\n",
       "      <td>0.000000</td>\n",
       "      <td>0.000000</td>\n",
       "      <td>0.000000</td>\n",
       "      <td>0.000000</td>\n",
       "      <td>0.000000</td>\n",
       "      <td>0.000000</td>\n",
       "      <td>0.000000</td>\n",
       "      <td>...</td>\n",
       "      <td>0.000766</td>\n",
       "      <td>0.000000</td>\n",
       "      <td>0.000000</td>\n",
       "      <td>0.000000</td>\n",
       "      <td>0.000000</td>\n",
       "      <td>0.000000</td>\n",
       "      <td>0.000000</td>\n",
       "      <td>0.000000</td>\n",
       "      <td>0.000000</td>\n",
       "      <td>0.001533</td>\n",
       "    </tr>\n",
       "    <tr>\n",
       "      <th>Tucuman</th>\n",
       "      <td>0.000000</td>\n",
       "      <td>0.000000</td>\n",
       "      <td>0.000000</td>\n",
       "      <td>0.000000</td>\n",
       "      <td>0.000000</td>\n",
       "      <td>0.000000</td>\n",
       "      <td>0.000000</td>\n",
       "      <td>0.000000</td>\n",
       "      <td>0.000000</td>\n",
       "      <td>0.000000</td>\n",
       "      <td>...</td>\n",
       "      <td>0.000000</td>\n",
       "      <td>0.000000</td>\n",
       "      <td>0.000000</td>\n",
       "      <td>0.001533</td>\n",
       "      <td>0.000000</td>\n",
       "      <td>0.000000</td>\n",
       "      <td>0.001533</td>\n",
       "      <td>0.002299</td>\n",
       "      <td>0.001533</td>\n",
       "      <td>0.006897</td>\n",
       "    </tr>\n",
       "    <tr>\n",
       "      <th>All</th>\n",
       "      <td>0.000766</td>\n",
       "      <td>0.000766</td>\n",
       "      <td>0.003831</td>\n",
       "      <td>0.003831</td>\n",
       "      <td>0.001533</td>\n",
       "      <td>0.002299</td>\n",
       "      <td>0.000766</td>\n",
       "      <td>0.000766</td>\n",
       "      <td>0.001533</td>\n",
       "      <td>0.000766</td>\n",
       "      <td>...</td>\n",
       "      <td>0.007663</td>\n",
       "      <td>0.016092</td>\n",
       "      <td>0.012261</td>\n",
       "      <td>0.046743</td>\n",
       "      <td>0.214559</td>\n",
       "      <td>0.181609</td>\n",
       "      <td>0.066667</td>\n",
       "      <td>0.227586</td>\n",
       "      <td>0.179310</td>\n",
       "      <td>1.000000</td>\n",
       "    </tr>\n",
       "  </tbody>\n",
       "</table>\n",
       "<p>25 rows × 29 columns</p>\n",
       "</div>"
      ],
      "text/plain": [
       "year                      1988.0    1989.0    1990.0    1991.0    1993.0  \\\n",
       "provincia                                                                  \n",
       "Buenos Aires            0.000000  0.000766  0.000000  0.002299  0.000000   \n",
       "Catamarca               0.000000  0.000000  0.000000  0.000000  0.000000   \n",
       "Chaco                   0.000000  0.000000  0.003065  0.000000  0.000000   \n",
       "Chubut                  0.000000  0.000000  0.000000  0.000000  0.000000   \n",
       "Ciudad de Buenos Aires  0.000766  0.000000  0.000000  0.001533  0.000000   \n",
       "Corrientes              0.000000  0.000000  0.000000  0.000000  0.000000   \n",
       "Córdoba                 0.000000  0.000000  0.000000  0.000000  0.000000   \n",
       "Entre Rios              0.000000  0.000000  0.000000  0.000000  0.000000   \n",
       "Formosa                 0.000000  0.000000  0.000000  0.000000  0.000000   \n",
       "Jujuy                   0.000000  0.000000  0.000000  0.000000  0.000000   \n",
       "La Pampa                0.000000  0.000000  0.000000  0.000000  0.000000   \n",
       "La Rioja                0.000000  0.000000  0.000000  0.000000  0.000000   \n",
       "Mendoza                 0.000000  0.000000  0.000766  0.000000  0.000000   \n",
       "Misiones                0.000000  0.000000  0.000000  0.000000  0.000000   \n",
       "Neuquen                 0.000000  0.000000  0.000000  0.000000  0.000000   \n",
       "Rio Negro               0.000000  0.000000  0.000000  0.000000  0.000000   \n",
       "Salta                   0.000000  0.000000  0.000000  0.000000  0.000000   \n",
       "San Juan                0.000000  0.000000  0.000000  0.000000  0.000000   \n",
       "San Luis                0.000000  0.000000  0.000000  0.000000  0.001533   \n",
       "Santa Cruz              0.000000  0.000000  0.000000  0.000000  0.000000   \n",
       "Santa Fe                0.000000  0.000000  0.000000  0.000000  0.000000   \n",
       "Santiago del Estero     0.000000  0.000000  0.000000  0.000000  0.000000   \n",
       "Tierra del Fuego        0.000000  0.000000  0.000000  0.000000  0.000000   \n",
       "Tucuman                 0.000000  0.000000  0.000000  0.000000  0.000000   \n",
       "All                     0.000766  0.000766  0.003831  0.003831  0.001533   \n",
       "\n",
       "year                      1994.0    1996.0    1997.0    1998.0    1999.0  \\\n",
       "provincia                                                                  \n",
       "Buenos Aires            0.000766  0.000000  0.000000  0.000000  0.000000   \n",
       "Catamarca               0.000000  0.000000  0.000000  0.000000  0.000000   \n",
       "Chaco                   0.000000  0.000000  0.000000  0.000000  0.000000   \n",
       "Chubut                  0.000000  0.000000  0.000000  0.000000  0.000000   \n",
       "Ciudad de Buenos Aires  0.000000  0.000766  0.000766  0.000766  0.000000   \n",
       "Corrientes              0.000000  0.000000  0.000000  0.000000  0.000000   \n",
       "Córdoba                 0.000000  0.000000  0.000000  0.000000  0.000000   \n",
       "Entre Rios              0.000000  0.000000  0.000000  0.000000  0.000000   \n",
       "Formosa                 0.000000  0.000000  0.000000  0.000000  0.000000   \n",
       "Jujuy                   0.000000  0.000000  0.000000  0.000000  0.000000   \n",
       "La Pampa                0.000000  0.000000  0.000000  0.000000  0.000000   \n",
       "La Rioja                0.000000  0.000000  0.000000  0.000000  0.000766   \n",
       "Mendoza                 0.000000  0.000000  0.000000  0.000000  0.000000   \n",
       "Misiones                0.000000  0.000000  0.000000  0.000000  0.000000   \n",
       "Neuquen                 0.000766  0.000000  0.000000  0.000766  0.000000   \n",
       "Rio Negro               0.000000  0.000000  0.000000  0.000000  0.000000   \n",
       "Salta                   0.000000  0.000000  0.000000  0.000000  0.000000   \n",
       "San Juan                0.000000  0.000000  0.000000  0.000000  0.000000   \n",
       "San Luis                0.000000  0.000000  0.000000  0.000000  0.000000   \n",
       "Santa Cruz              0.000000  0.000000  0.000000  0.000000  0.000000   \n",
       "Santa Fe                0.000766  0.000000  0.000000  0.000000  0.000000   \n",
       "Santiago del Estero     0.000000  0.000000  0.000000  0.000000  0.000000   \n",
       "Tierra del Fuego        0.000000  0.000000  0.000000  0.000000  0.000000   \n",
       "Tucuman                 0.000000  0.000000  0.000000  0.000000  0.000000   \n",
       "All                     0.002299  0.000766  0.000766  0.001533  0.000766   \n",
       "\n",
       "year                      ...       2009.0    2010.0    2011.0    2012.0  \\\n",
       "provincia                 ...                                              \n",
       "Buenos Aires              ...     0.003065  0.006130  0.006897  0.016092   \n",
       "Catamarca                 ...     0.000000  0.000000  0.000000  0.000000   \n",
       "Chaco                     ...     0.000000  0.000000  0.000000  0.005364   \n",
       "Chubut                    ...     0.000000  0.002299  0.000000  0.002299   \n",
       "Ciudad de Buenos Aires    ...     0.003831  0.000766  0.001533  0.007663   \n",
       "Corrientes                ...     0.000000  0.000000  0.000000  0.000000   \n",
       "Córdoba                   ...     0.000000  0.001533  0.002299  0.003065   \n",
       "Entre Rios                ...     0.000000  0.000000  0.000000  0.000766   \n",
       "Formosa                   ...     0.000000  0.000000  0.000000  0.000000   \n",
       "Jujuy                     ...     0.000000  0.000766  0.000000  0.000766   \n",
       "La Pampa                  ...     0.000000  0.000000  0.000000  0.000766   \n",
       "La Rioja                  ...     0.000000  0.002299  0.000766  0.000000   \n",
       "Mendoza                   ...     0.000000  0.000000  0.000000  0.000000   \n",
       "Misiones                  ...     0.000000  0.000000  0.000000  0.001533   \n",
       "Neuquen                   ...     0.000000  0.000000  0.000000  0.006897   \n",
       "Rio Negro                 ...     0.000000  0.000000  0.000766  0.000000   \n",
       "Salta                     ...     0.000000  0.000766  0.000000  0.000000   \n",
       "San Juan                  ...     0.000000  0.000000  0.000000  0.000000   \n",
       "San Luis                  ...     0.000000  0.000000  0.000000  0.000000   \n",
       "Santa Cruz                ...     0.000000  0.001533  0.000000  0.000000   \n",
       "Santa Fe                  ...     0.000000  0.000000  0.000000  0.000000   \n",
       "Santiago del Estero       ...     0.000000  0.000000  0.000000  0.000000   \n",
       "Tierra del Fuego          ...     0.000766  0.000000  0.000000  0.000000   \n",
       "Tucuman                   ...     0.000000  0.000000  0.000000  0.001533   \n",
       "All                       ...     0.007663  0.016092  0.012261  0.046743   \n",
       "\n",
       "year                      2013.0    2014.0    2015.0    2016.0    2017.0  \\\n",
       "provincia                                                                  \n",
       "Buenos Aires            0.150192  0.125670  0.037548  0.178544  0.143295   \n",
       "Catamarca               0.000000  0.000000  0.000000  0.000766  0.000000   \n",
       "Chaco                   0.006130  0.002299  0.002299  0.002299  0.000766   \n",
       "Chubut                  0.004598  0.006897  0.001533  0.001533  0.005364   \n",
       "Ciudad de Buenos Aires  0.017625  0.018391  0.007663  0.008429  0.009195   \n",
       "Corrientes              0.001533  0.000000  0.000766  0.000766  0.000000   \n",
       "Córdoba                 0.003831  0.003065  0.009962  0.008429  0.007663   \n",
       "Entre Rios              0.000000  0.006130  0.000000  0.000000  0.000000   \n",
       "Formosa                 0.002299  0.002299  0.000766  0.000766  0.000766   \n",
       "Jujuy                   0.000766  0.000766  0.000766  0.000000  0.000000   \n",
       "La Pampa                0.003831  0.000000  0.000000  0.003065  0.000000   \n",
       "La Rioja                0.000000  0.000000  0.000000  0.000000  0.000000   \n",
       "Mendoza                 0.003065  0.003065  0.001533  0.001533  0.001533   \n",
       "Misiones                0.001533  0.003065  0.000000  0.000000  0.000766   \n",
       "Neuquen                 0.003065  0.001533  0.000766  0.000000  0.000000   \n",
       "Rio Negro               0.004598  0.005364  0.000000  0.005364  0.002299   \n",
       "Salta                   0.001533  0.000766  0.000000  0.007663  0.000766   \n",
       "San Juan                0.000000  0.000000  0.000000  0.002299  0.000000   \n",
       "San Luis                0.000766  0.000000  0.000000  0.000000  0.000000   \n",
       "Santa Cruz              0.000766  0.000000  0.000000  0.000766  0.000000   \n",
       "Santa Fe                0.006130  0.001533  0.001533  0.000000  0.003831   \n",
       "Santiago del Estero     0.002299  0.000766  0.000000  0.003065  0.001533   \n",
       "Tierra del Fuego        0.000000  0.000000  0.000000  0.000000  0.000000   \n",
       "Tucuman                 0.000000  0.000000  0.001533  0.002299  0.001533   \n",
       "All                     0.214559  0.181609  0.066667  0.227586  0.179310   \n",
       "\n",
       "year                         All  \n",
       "provincia                         \n",
       "Buenos Aires            0.685057  \n",
       "Catamarca               0.000766  \n",
       "Chaco                   0.022222  \n",
       "Chubut                  0.026054  \n",
       "Ciudad de Buenos Aires  0.085824  \n",
       "Corrientes              0.003065  \n",
       "Córdoba                 0.039847  \n",
       "Entre Rios              0.006897  \n",
       "Formosa                 0.007663  \n",
       "Jujuy                   0.005364  \n",
       "La Pampa                0.007663  \n",
       "La Rioja                0.004598  \n",
       "Mendoza                 0.012261  \n",
       "Misiones                0.008429  \n",
       "Neuquen                 0.014559  \n",
       "Rio Negro               0.019157  \n",
       "Salta                   0.012261  \n",
       "San Juan                0.002299  \n",
       "San Luis                0.002299  \n",
       "Santa Cruz              0.003065  \n",
       "Santa Fe                0.014559  \n",
       "Santiago del Estero     0.007663  \n",
       "Tierra del Fuego        0.001533  \n",
       "Tucuman                 0.006897  \n",
       "All                     1.000000  \n",
       "\n",
       "[25 rows x 29 columns]"
      ]
     },
     "execution_count": 59,
     "metadata": {},
     "output_type": "execute_result"
    }
   ],
   "source": [
    "tabla_prov_anio = pandas.crosstab(index=dataset['provincia'],columns=dataset['year'],margins=True,normalize=True)\n",
    "tabla_prov_anio"
   ]
  },
  {
   "cell_type": "markdown",
   "metadata": {},
   "source": [
    "Para comprobar si estas dos variables aleatórias son independientes, debemos verificar lo siguiente:\n",
    "\n",
    "$$ P(X=Anio \\cap Y=Provincia)=P(Anio).P(Provincia) $$\n",
    "\n",
    "Si esta igualdad se cumple, las variables serán independientes.  De lo contrario, no lo serán. Esto implica que, para que las variables sean independientes, se tiene que cumplir que:\n",
    "\n",
    "$$ P(X=Anio \\cap Y=Provincia)-P(Anio).P(Proivincia)=0 $$"
   ]
  },
  {
   "cell_type": "markdown",
   "metadata": {},
   "source": [
    "Calculamos, por un lado, el producto de las probabilidades totales:"
   ]
  },
  {
   "cell_type": "code",
   "execution_count": 120,
   "metadata": {
    "collapsed": true
   },
   "outputs": [
    {
     "data": {
      "text/plain": [
       "array([[1.56439970e-01, 1.50119163e-01, 1.26942871e-01, 1.23255734e-01,\n",
       "        4.58258497e-02, 3.26575021e-02, 1.10614120e-02, 8.42774247e-03,\n",
       "        5.26733904e-03, 4.74060514e-03, 3.68713733e-03, 2.63366952e-03,\n",
       "        2.63366952e-03, 2.63366952e-03, 2.63366952e-03, 1.58020171e-03,\n",
       "        1.58020171e-03, 1.58020171e-03, 1.58020171e-03, 1.58020171e-03,\n",
       "        1.05346781e-03, 1.05346781e-03, 1.05346781e-03, 1.05346781e-03,\n",
       "        5.26733904e-04, 5.26733904e-04, 5.26733904e-04, 5.26733904e-04],\n",
       "       [1.87535619e-02, 1.79958423e-02, 1.52175368e-02, 1.47755336e-02,\n",
       "        5.49346764e-03, 3.91488498e-03, 1.32600943e-03, 1.01029290e-03,\n",
       "        6.31433062e-04, 5.68289755e-04, 4.42003143e-04, 3.15716531e-04,\n",
       "        3.15716531e-04, 3.15716531e-04, 3.15716531e-04, 1.89429918e-04,\n",
       "        1.89429918e-04, 1.89429918e-04, 1.89429918e-04, 1.89429918e-04,\n",
       "        1.26286612e-04, 1.26286612e-04, 1.26286612e-04, 1.26286612e-04,\n",
       "        6.31433062e-05, 6.31433062e-05, 6.31433062e-05, 6.31433062e-05],\n",
       "       [8.33491641e-03, 7.99815211e-03, 6.76334968e-03, 6.56690384e-03,\n",
       "        2.44154117e-03, 1.73994888e-03, 5.89337524e-04, 4.49019066e-04,\n",
       "        2.80636916e-04, 2.52573225e-04, 1.96445841e-04, 1.40318458e-04,\n",
       "        1.40318458e-04, 1.40318458e-04, 1.40318458e-04, 8.41910749e-05,\n",
       "        8.41910749e-05, 8.41910749e-05, 8.41910749e-05, 8.41910749e-05,\n",
       "        5.61273833e-05, 5.61273833e-05, 5.61273833e-05, 5.61273833e-05,\n",
       "        2.80636916e-05, 2.80636916e-05, 2.80636916e-05, 2.80636916e-05],\n",
       "       [5.93061360e-03, 5.69099285e-03, 4.81238343e-03, 4.67260466e-03,\n",
       "        1.73725045e-03, 1.23804055e-03, 4.19336315e-04, 3.19494335e-04,\n",
       "        1.99683960e-04, 1.79715564e-04, 1.39778772e-04, 9.98419798e-05,\n",
       "        9.98419798e-05, 9.98419798e-05, 9.98419798e-05, 5.99051879e-05,\n",
       "        5.99051879e-05, 5.99051879e-05, 5.99051879e-05, 5.99051879e-05,\n",
       "        3.99367919e-05, 3.99367919e-05, 3.99367919e-05, 3.99367919e-05,\n",
       "        1.99683960e-05, 1.99683960e-05, 1.99683960e-05, 1.99683960e-05],\n",
       "       [4.64831877e-03, 4.46050791e-03, 3.77186809e-03, 3.66231176e-03,\n",
       "        1.36162873e-03, 9.70356107e-04, 3.28669004e-04, 2.50414479e-04,\n",
       "        1.56509049e-04, 1.40858145e-04, 1.09556335e-04, 7.82545247e-05,\n",
       "        7.82545247e-05, 7.82545247e-05, 7.82545247e-05, 4.69527148e-05,\n",
       "        4.69527148e-05, 4.69527148e-05, 4.69527148e-05, 4.69527148e-05,\n",
       "        3.13018099e-05, 3.13018099e-05, 3.13018099e-05, 3.13018099e-05,\n",
       "        1.56509049e-05, 1.56509049e-05, 1.56509049e-05, 1.56509049e-05],\n",
       "       [4.32774506e-03, 4.15288667e-03, 3.51173926e-03, 3.40973853e-03,\n",
       "        1.26772330e-03, 9.03434996e-04, 3.06002176e-04, 2.33144515e-04,\n",
       "        1.45715322e-04, 1.31143790e-04, 1.02000725e-04, 7.28576610e-05,\n",
       "        7.28576610e-05, 7.28576610e-05, 7.28576610e-05, 4.37145966e-05,\n",
       "        4.37145966e-05, 4.37145966e-05, 4.37145966e-05, 4.37145966e-05,\n",
       "        2.91430644e-05, 2.91430644e-05, 2.91430644e-05, 2.91430644e-05,\n",
       "        1.45715322e-05, 1.45715322e-05, 1.45715322e-05, 1.45715322e-05],\n",
       "       [3.36602394e-03, 3.23002297e-03, 2.73135276e-03, 2.65201886e-03,\n",
       "        9.86007012e-04, 7.02671663e-04, 2.38001692e-04, 1.81334623e-04,\n",
       "        1.13334139e-04, 1.02000725e-04, 7.93338975e-05, 5.66670696e-05,\n",
       "        5.66670696e-05, 5.66670696e-05, 5.66670696e-05, 3.40002418e-05,\n",
       "        3.40002418e-05, 3.40002418e-05, 3.40002418e-05, 3.40002418e-05,\n",
       "        2.26668279e-05, 2.26668279e-05, 2.26668279e-05, 2.26668279e-05,\n",
       "        1.13334139e-05, 1.13334139e-05, 1.13334139e-05, 1.13334139e-05],\n",
       "       [3.20573708e-03, 3.07621235e-03, 2.60128834e-03, 2.52573225e-03,\n",
       "        9.39054297e-04, 6.69211108e-04, 2.26668279e-04, 1.72699641e-04,\n",
       "        1.07937275e-04, 9.71435479e-05, 7.55560928e-05, 5.39686377e-05,\n",
       "        5.39686377e-05, 5.39686377e-05, 5.39686377e-05, 3.23811826e-05,\n",
       "        3.23811826e-05, 3.23811826e-05, 3.23811826e-05, 3.23811826e-05,\n",
       "        2.15874551e-05, 2.15874551e-05, 2.15874551e-05, 2.15874551e-05,\n",
       "        1.07937275e-05, 1.07937275e-05, 1.07937275e-05, 1.07937275e-05],\n",
       "       [2.72487652e-03, 2.61478050e-03, 2.21109509e-03, 2.14687241e-03,\n",
       "        7.98196152e-04, 5.68829442e-04, 1.92668037e-04, 1.46794695e-04,\n",
       "        9.17466842e-05, 8.25720158e-05, 6.42226789e-05, 4.58733421e-05,\n",
       "        4.58733421e-05, 4.58733421e-05, 4.58733421e-05, 2.75240053e-05,\n",
       "        2.75240053e-05, 2.75240053e-05, 2.75240053e-05, 2.75240053e-05,\n",
       "        1.83493368e-05, 1.83493368e-05, 1.83493368e-05, 1.83493368e-05,\n",
       "        9.17466842e-06, 9.17466842e-06, 9.17466842e-06, 9.17466842e-06],\n",
       "       [2.72487652e-03, 2.61478050e-03, 2.21109509e-03, 2.14687241e-03,\n",
       "        7.98196152e-04, 5.68829442e-04, 1.92668037e-04, 1.46794695e-04,\n",
       "        9.17466842e-05, 8.25720158e-05, 6.42226789e-05, 4.58733421e-05,\n",
       "        4.58733421e-05, 4.58733421e-05, 4.58733421e-05, 2.75240053e-05,\n",
       "        2.75240053e-05, 2.75240053e-05, 2.75240053e-05, 2.75240053e-05,\n",
       "        1.83493368e-05, 1.83493368e-05, 1.83493368e-05, 1.83493368e-05,\n",
       "        9.17466842e-06, 9.17466842e-06, 9.17466842e-06, 9.17466842e-06],\n",
       "       [1.76315540e-03, 1.69191679e-03, 1.43070859e-03, 1.38915274e-03,\n",
       "        5.16479863e-04, 3.68066109e-04, 1.24667553e-04, 9.49848024e-05,\n",
       "        5.93655015e-05, 5.34289514e-05, 4.15558511e-05, 2.96827508e-05,\n",
       "        2.96827508e-05, 2.96827508e-05, 2.96827508e-05, 1.78096505e-05,\n",
       "        1.78096505e-05, 1.78096505e-05, 1.78096505e-05, 1.78096505e-05,\n",
       "        1.18731003e-05, 1.18731003e-05, 1.18731003e-05, 1.18731003e-05,\n",
       "        5.93655015e-06, 5.93655015e-06, 5.93655015e-06, 5.93655015e-06],\n",
       "       [1.60286854e-03, 1.53810618e-03, 1.30064417e-03, 1.26286612e-03,\n",
       "        4.69527148e-04, 3.34605554e-04, 1.13334139e-04, 8.63498204e-05,\n",
       "        5.39686377e-05, 4.85717740e-05, 3.77780464e-05, 2.69843189e-05,\n",
       "        2.69843189e-05, 2.69843189e-05, 2.69843189e-05, 1.61905913e-05,\n",
       "        1.61905913e-05, 1.61905913e-05, 1.61905913e-05, 1.61905913e-05,\n",
       "        1.07937275e-05, 1.07937275e-05, 1.07937275e-05, 1.07937275e-05,\n",
       "        5.39686377e-06, 5.39686377e-06, 5.39686377e-06, 5.39686377e-06],\n",
       "       [1.60286854e-03, 1.53810618e-03, 1.30064417e-03, 1.26286612e-03,\n",
       "        4.69527148e-04, 3.34605554e-04, 1.13334139e-04, 8.63498204e-05,\n",
       "        5.39686377e-05, 4.85717740e-05, 3.77780464e-05, 2.69843189e-05,\n",
       "        2.69843189e-05, 2.69843189e-05, 2.69843189e-05, 1.61905913e-05,\n",
       "        1.61905913e-05, 1.61905913e-05, 1.61905913e-05, 1.61905913e-05,\n",
       "        1.07937275e-05, 1.07937275e-05, 1.07937275e-05, 1.07937275e-05,\n",
       "        5.39686377e-06, 5.39686377e-06, 5.39686377e-06, 5.39686377e-06],\n",
       "       [1.60286854e-03, 1.53810618e-03, 1.30064417e-03, 1.26286612e-03,\n",
       "        4.69527148e-04, 3.34605554e-04, 1.13334139e-04, 8.63498204e-05,\n",
       "        5.39686377e-05, 4.85717740e-05, 3.77780464e-05, 2.69843189e-05,\n",
       "        2.69843189e-05, 2.69843189e-05, 2.69843189e-05, 1.61905913e-05,\n",
       "        1.61905913e-05, 1.61905913e-05, 1.61905913e-05, 1.61905913e-05,\n",
       "        1.07937275e-05, 1.07937275e-05, 1.07937275e-05, 1.07937275e-05,\n",
       "        5.39686377e-06, 5.39686377e-06, 5.39686377e-06, 5.39686377e-06],\n",
       "       [1.60286854e-03, 1.53810618e-03, 1.30064417e-03, 1.26286612e-03,\n",
       "        4.69527148e-04, 3.34605554e-04, 1.13334139e-04, 8.63498204e-05,\n",
       "        5.39686377e-05, 4.85717740e-05, 3.77780464e-05, 2.69843189e-05,\n",
       "        2.69843189e-05, 2.69843189e-05, 2.69843189e-05, 1.61905913e-05,\n",
       "        1.61905913e-05, 1.61905913e-05, 1.61905913e-05, 1.61905913e-05,\n",
       "        1.07937275e-05, 1.07937275e-05, 1.07937275e-05, 1.07937275e-05,\n",
       "        5.39686377e-06, 5.39686377e-06, 5.39686377e-06, 5.39686377e-06],\n",
       "       [1.44258169e-03, 1.38429556e-03, 1.17057975e-03, 1.13657951e-03,\n",
       "        4.22574434e-04, 3.01144999e-04, 1.02000725e-04, 7.77148384e-05,\n",
       "        4.85717740e-05, 4.37145966e-05, 3.40002418e-05, 2.42858870e-05,\n",
       "        2.42858870e-05, 2.42858870e-05, 2.42858870e-05, 1.45715322e-05,\n",
       "        1.45715322e-05, 1.45715322e-05, 1.45715322e-05, 1.45715322e-05,\n",
       "        9.71435479e-06, 9.71435479e-06, 9.71435479e-06, 9.71435479e-06,\n",
       "        4.85717740e-06, 4.85717740e-06, 4.85717740e-06, 4.85717740e-06],\n",
       "       [1.44258169e-03, 1.38429556e-03, 1.17057975e-03, 1.13657951e-03,\n",
       "        4.22574434e-04, 3.01144999e-04, 1.02000725e-04, 7.77148384e-05,\n",
       "        4.85717740e-05, 4.37145966e-05, 3.40002418e-05, 2.42858870e-05,\n",
       "        2.42858870e-05, 2.42858870e-05, 2.42858870e-05, 1.45715322e-05,\n",
       "        1.45715322e-05, 1.45715322e-05, 1.45715322e-05, 1.45715322e-05,\n",
       "        9.71435479e-06, 9.71435479e-06, 9.71435479e-06, 9.71435479e-06,\n",
       "        4.85717740e-06, 4.85717740e-06, 4.85717740e-06, 4.85717740e-06],\n",
       "       [9.61721125e-04, 9.22863705e-04, 7.80386502e-04, 7.57719674e-04,\n",
       "        2.81716289e-04, 2.00763332e-04, 6.80004836e-05, 5.18098922e-05,\n",
       "        3.23811826e-05, 2.91430644e-05, 2.26668279e-05, 1.61905913e-05,\n",
       "        1.61905913e-05, 1.61905913e-05, 1.61905913e-05, 9.71435479e-06,\n",
       "        9.71435479e-06, 9.71435479e-06, 9.71435479e-06, 9.71435479e-06,\n",
       "        6.47623653e-06, 6.47623653e-06, 6.47623653e-06, 6.47623653e-06,\n",
       "        3.23811826e-06, 3.23811826e-06, 3.23811826e-06, 3.23811826e-06],\n",
       "       [8.01434271e-04, 7.69053088e-04, 6.50322085e-04, 6.31433062e-04,\n",
       "        2.34763574e-04, 1.67302777e-04, 5.66670696e-05, 4.31749102e-05,\n",
       "        2.69843189e-05, 2.42858870e-05, 1.88890232e-05, 1.34921594e-05,\n",
       "        1.34921594e-05, 1.34921594e-05, 1.34921594e-05, 8.09529566e-06,\n",
       "        8.09529566e-06, 8.09529566e-06, 8.09529566e-06, 8.09529566e-06,\n",
       "        5.39686377e-06, 5.39686377e-06, 5.39686377e-06, 5.39686377e-06,\n",
       "        2.69843189e-06, 2.69843189e-06, 2.69843189e-06, 2.69843189e-06],\n",
       "       [6.41147416e-04, 6.15242470e-04, 5.20257668e-04, 5.05146449e-04,\n",
       "        1.87810859e-04, 1.33842222e-04, 4.53336557e-05, 3.45399282e-05,\n",
       "        2.15874551e-05, 1.94287096e-05, 1.51112186e-05, 1.07937275e-05,\n",
       "        1.07937275e-05, 1.07937275e-05, 1.07937275e-05, 6.47623653e-06,\n",
       "        6.47623653e-06, 6.47623653e-06, 6.47623653e-06, 6.47623653e-06,\n",
       "        4.31749102e-06, 4.31749102e-06, 4.31749102e-06, 4.31749102e-06,\n",
       "        2.15874551e-06, 2.15874551e-06, 2.15874551e-06, 2.15874551e-06],\n",
       "       [6.41147416e-04, 6.15242470e-04, 5.20257668e-04, 5.05146449e-04,\n",
       "        1.87810859e-04, 1.33842222e-04, 4.53336557e-05, 3.45399282e-05,\n",
       "        2.15874551e-05, 1.94287096e-05, 1.51112186e-05, 1.07937275e-05,\n",
       "        1.07937275e-05, 1.07937275e-05, 1.07937275e-05, 6.47623653e-06,\n",
       "        6.47623653e-06, 6.47623653e-06, 6.47623653e-06, 6.47623653e-06,\n",
       "        4.31749102e-06, 4.31749102e-06, 4.31749102e-06, 4.31749102e-06,\n",
       "        2.15874551e-06, 2.15874551e-06, 2.15874551e-06, 2.15874551e-06],\n",
       "       [4.80860562e-04, 4.61431853e-04, 3.90193251e-04, 3.78859837e-04,\n",
       "        1.40858145e-04, 1.00381666e-04, 3.40002418e-05, 2.59049461e-05,\n",
       "        1.61905913e-05, 1.45715322e-05, 1.13334139e-05, 8.09529566e-06,\n",
       "        8.09529566e-06, 8.09529566e-06, 8.09529566e-06, 4.85717740e-06,\n",
       "        4.85717740e-06, 4.85717740e-06, 4.85717740e-06, 4.85717740e-06,\n",
       "        3.23811826e-06, 3.23811826e-06, 3.23811826e-06, 3.23811826e-06,\n",
       "        1.61905913e-06, 1.61905913e-06, 1.61905913e-06, 1.61905913e-06],\n",
       "       [3.20573708e-04, 3.07621235e-04, 2.60128834e-04, 2.52573225e-04,\n",
       "        9.39054297e-05, 6.69211108e-05, 2.26668279e-05, 1.72699641e-05,\n",
       "        1.07937275e-05, 9.71435479e-06, 7.55560928e-06, 5.39686377e-06,\n",
       "        5.39686377e-06, 5.39686377e-06, 5.39686377e-06, 3.23811826e-06,\n",
       "        3.23811826e-06, 3.23811826e-06, 3.23811826e-06, 3.23811826e-06,\n",
       "        2.15874551e-06, 2.15874551e-06, 2.15874551e-06, 2.15874551e-06,\n",
       "        1.07937275e-06, 1.07937275e-06, 1.07937275e-06, 1.07937275e-06],\n",
       "       [3.20573708e-04, 3.07621235e-04, 2.60128834e-04, 2.52573225e-04,\n",
       "        9.39054297e-05, 6.69211108e-05, 2.26668279e-05, 1.72699641e-05,\n",
       "        1.07937275e-05, 9.71435479e-06, 7.55560928e-06, 5.39686377e-06,\n",
       "        5.39686377e-06, 5.39686377e-06, 5.39686377e-06, 3.23811826e-06,\n",
       "        3.23811826e-06, 3.23811826e-06, 3.23811826e-06, 3.23811826e-06,\n",
       "        2.15874551e-06, 2.15874551e-06, 2.15874551e-06, 2.15874551e-06,\n",
       "        1.07937275e-06, 1.07937275e-06, 1.07937275e-06, 1.07937275e-06]])"
      ]
     },
     "execution_count": 120,
     "metadata": {},
     "output_type": "execute_result"
    }
   ],
   "source": [
    "provs=dataset['provincia'].value_counts(normalize=True)\n",
    "year=dataset['year'].value_counts(normalize=True)\n",
    "\n",
    "prod_p_tot = numpy.outer(provs.values,year.values)\n",
    "prod_p_tot"
   ]
  },
  {
   "cell_type": "markdown",
   "metadata": {},
   "source": [
    "Por el otro, tomamos las probabilidades conjuntas de la tabla de frecuencia de probabilidades ya elaborada:"
   ]
  },
  {
   "cell_type": "code",
   "execution_count": 121,
   "metadata": {
    "collapsed": true
   },
   "outputs": [
    {
     "data": {
      "text/plain": [
       "array([[0.        , 0.00076628, 0.        , 0.00229885, 0.        ,\n",
       "        0.00076628, 0.        , 0.        , 0.        , 0.        ,\n",
       "        0.00076628, 0.        , 0.00383142, 0.00153257, 0.00153257,\n",
       "        0.00076628, 0.        , 0.00306513, 0.00229885, 0.00306513,\n",
       "        0.00613027, 0.00689655, 0.01609195, 0.15019157, 0.1256705 ,\n",
       "        0.03754789, 0.17854406, 0.14329502],\n",
       "       [0.        , 0.        , 0.        , 0.        , 0.        ,\n",
       "        0.        , 0.        , 0.        , 0.        , 0.        ,\n",
       "        0.        , 0.        , 0.        , 0.        , 0.        ,\n",
       "        0.        , 0.        , 0.        , 0.        , 0.        ,\n",
       "        0.        , 0.        , 0.        , 0.        , 0.        ,\n",
       "        0.        , 0.00076628, 0.        ],\n",
       "       [0.        , 0.        , 0.00306513, 0.        , 0.        ,\n",
       "        0.        , 0.        , 0.        , 0.        , 0.        ,\n",
       "        0.        , 0.        , 0.        , 0.        , 0.        ,\n",
       "        0.        , 0.        , 0.        , 0.        , 0.        ,\n",
       "        0.        , 0.        , 0.00536398, 0.00613027, 0.00229885,\n",
       "        0.00229885, 0.00229885, 0.00076628],\n",
       "       [0.        , 0.        , 0.        , 0.        , 0.        ,\n",
       "        0.        , 0.        , 0.        , 0.        , 0.        ,\n",
       "        0.        , 0.        , 0.        , 0.00153257, 0.        ,\n",
       "        0.        , 0.        , 0.        , 0.        , 0.        ,\n",
       "        0.00229885, 0.        , 0.00229885, 0.0045977 , 0.00689655,\n",
       "        0.00153257, 0.00153257, 0.00536398],\n",
       "       [0.00076628, 0.        , 0.        , 0.00153257, 0.        ,\n",
       "        0.        , 0.00076628, 0.00076628, 0.00076628, 0.        ,\n",
       "        0.00076628, 0.00153257, 0.        , 0.00153257, 0.        ,\n",
       "        0.00076628, 0.00076628, 0.        , 0.00076628, 0.00383142,\n",
       "        0.00076628, 0.00153257, 0.00766284, 0.01762452, 0.0183908 ,\n",
       "        0.00766284, 0.00842912, 0.0091954 ],\n",
       "       [0.        , 0.        , 0.        , 0.        , 0.        ,\n",
       "        0.        , 0.        , 0.        , 0.        , 0.        ,\n",
       "        0.        , 0.        , 0.        , 0.        , 0.        ,\n",
       "        0.        , 0.        , 0.        , 0.        , 0.        ,\n",
       "        0.        , 0.        , 0.        , 0.00153257, 0.        ,\n",
       "        0.00076628, 0.00076628, 0.        ],\n",
       "       [0.        , 0.        , 0.        , 0.        , 0.        ,\n",
       "        0.        , 0.        , 0.        , 0.        , 0.        ,\n",
       "        0.        , 0.        , 0.        , 0.        , 0.        ,\n",
       "        0.        , 0.        , 0.        , 0.        , 0.        ,\n",
       "        0.00153257, 0.00229885, 0.00306513, 0.00383142, 0.00306513,\n",
       "        0.00996169, 0.00842912, 0.00766284],\n",
       "       [0.        , 0.        , 0.        , 0.        , 0.        ,\n",
       "        0.        , 0.        , 0.        , 0.        , 0.        ,\n",
       "        0.        , 0.        , 0.        , 0.        , 0.        ,\n",
       "        0.        , 0.        , 0.        , 0.        , 0.        ,\n",
       "        0.        , 0.        , 0.00076628, 0.        , 0.00613027,\n",
       "        0.        , 0.        , 0.        ],\n",
       "       [0.        , 0.        , 0.        , 0.        , 0.        ,\n",
       "        0.        , 0.        , 0.        , 0.        , 0.        ,\n",
       "        0.        , 0.        , 0.00076628, 0.        , 0.        ,\n",
       "        0.        , 0.        , 0.        , 0.        , 0.        ,\n",
       "        0.        , 0.        , 0.        , 0.00229885, 0.00229885,\n",
       "        0.00076628, 0.00076628, 0.00076628],\n",
       "       [0.        , 0.        , 0.        , 0.        , 0.        ,\n",
       "        0.        , 0.        , 0.        , 0.        , 0.        ,\n",
       "        0.00076628, 0.        , 0.        , 0.        , 0.        ,\n",
       "        0.        , 0.        , 0.        , 0.00076628, 0.        ,\n",
       "        0.00076628, 0.        , 0.00076628, 0.00076628, 0.00076628,\n",
       "        0.00076628, 0.        , 0.        ],\n",
       "       [0.        , 0.        , 0.        , 0.        , 0.        ,\n",
       "        0.        , 0.        , 0.        , 0.        , 0.        ,\n",
       "        0.        , 0.        , 0.        , 0.        , 0.        ,\n",
       "        0.        , 0.        , 0.        , 0.        , 0.        ,\n",
       "        0.        , 0.        , 0.00076628, 0.00383142, 0.        ,\n",
       "        0.        , 0.00306513, 0.        ],\n",
       "       [0.        , 0.        , 0.        , 0.        , 0.        ,\n",
       "        0.        , 0.        , 0.        , 0.        , 0.00076628,\n",
       "        0.        , 0.        , 0.        , 0.        , 0.        ,\n",
       "        0.        , 0.00076628, 0.        , 0.        , 0.        ,\n",
       "        0.00229885, 0.00076628, 0.        , 0.        , 0.        ,\n",
       "        0.        , 0.        , 0.        ],\n",
       "       [0.        , 0.        , 0.00076628, 0.        , 0.        ,\n",
       "        0.        , 0.        , 0.        , 0.        , 0.        ,\n",
       "        0.        , 0.        , 0.        , 0.00076628, 0.        ,\n",
       "        0.        , 0.        , 0.        , 0.        , 0.        ,\n",
       "        0.        , 0.        , 0.        , 0.00306513, 0.00306513,\n",
       "        0.00153257, 0.00153257, 0.00153257],\n",
       "       [0.        , 0.        , 0.        , 0.        , 0.        ,\n",
       "        0.        , 0.        , 0.        , 0.        , 0.        ,\n",
       "        0.        , 0.        , 0.        , 0.00153257, 0.        ,\n",
       "        0.        , 0.        , 0.        , 0.        , 0.        ,\n",
       "        0.        , 0.        , 0.00153257, 0.00153257, 0.00306513,\n",
       "        0.        , 0.        , 0.00076628],\n",
       "       [0.        , 0.        , 0.        , 0.        , 0.        ,\n",
       "        0.00076628, 0.        , 0.        , 0.00076628, 0.        ,\n",
       "        0.        , 0.        , 0.        , 0.        , 0.        ,\n",
       "        0.        , 0.        , 0.00076628, 0.        , 0.        ,\n",
       "        0.        , 0.        , 0.00689655, 0.00306513, 0.00153257,\n",
       "        0.00076628, 0.        , 0.        ],\n",
       "       [0.        , 0.        , 0.        , 0.        , 0.        ,\n",
       "        0.        , 0.        , 0.        , 0.        , 0.        ,\n",
       "        0.        , 0.        , 0.        , 0.        , 0.        ,\n",
       "        0.00076628, 0.        , 0.        , 0.        , 0.        ,\n",
       "        0.        , 0.00076628, 0.        , 0.0045977 , 0.00536398,\n",
       "        0.        , 0.00536398, 0.00229885],\n",
       "       [0.        , 0.        , 0.        , 0.        , 0.        ,\n",
       "        0.        , 0.        , 0.        , 0.        , 0.        ,\n",
       "        0.        , 0.00076628, 0.        , 0.        , 0.        ,\n",
       "        0.        , 0.        , 0.        , 0.        , 0.        ,\n",
       "        0.00076628, 0.        , 0.        , 0.00153257, 0.00076628,\n",
       "        0.        , 0.00766284, 0.00076628],\n",
       "       [0.        , 0.        , 0.        , 0.        , 0.        ,\n",
       "        0.        , 0.        , 0.        , 0.        , 0.        ,\n",
       "        0.        , 0.        , 0.        , 0.        , 0.        ,\n",
       "        0.        , 0.        , 0.        , 0.        , 0.        ,\n",
       "        0.        , 0.        , 0.        , 0.        , 0.        ,\n",
       "        0.        , 0.00229885, 0.        ],\n",
       "       [0.        , 0.        , 0.        , 0.        , 0.00153257,\n",
       "        0.        , 0.        , 0.        , 0.        , 0.        ,\n",
       "        0.        , 0.        , 0.        , 0.        , 0.        ,\n",
       "        0.        , 0.        , 0.        , 0.        , 0.        ,\n",
       "        0.        , 0.        , 0.        , 0.00076628, 0.        ,\n",
       "        0.        , 0.        , 0.        ],\n",
       "       [0.        , 0.        , 0.        , 0.        , 0.        ,\n",
       "        0.        , 0.        , 0.        , 0.        , 0.        ,\n",
       "        0.        , 0.        , 0.        , 0.        , 0.        ,\n",
       "        0.        , 0.        , 0.        , 0.        , 0.        ,\n",
       "        0.00153257, 0.        , 0.        , 0.00076628, 0.        ,\n",
       "        0.        , 0.00076628, 0.        ],\n",
       "       [0.        , 0.        , 0.        , 0.        , 0.        ,\n",
       "        0.00076628, 0.        , 0.        , 0.        , 0.        ,\n",
       "        0.        , 0.        , 0.00076628, 0.        , 0.        ,\n",
       "        0.        , 0.        , 0.        , 0.        , 0.        ,\n",
       "        0.        , 0.        , 0.        , 0.00613027, 0.00153257,\n",
       "        0.00153257, 0.        , 0.00383142],\n",
       "       [0.        , 0.        , 0.        , 0.        , 0.        ,\n",
       "        0.        , 0.        , 0.        , 0.        , 0.        ,\n",
       "        0.        , 0.        , 0.        , 0.        , 0.        ,\n",
       "        0.        , 0.        , 0.        , 0.        , 0.        ,\n",
       "        0.        , 0.        , 0.        , 0.00229885, 0.00076628,\n",
       "        0.        , 0.00306513, 0.00153257],\n",
       "       [0.        , 0.        , 0.        , 0.        , 0.        ,\n",
       "        0.        , 0.        , 0.        , 0.        , 0.        ,\n",
       "        0.        , 0.        , 0.        , 0.        , 0.        ,\n",
       "        0.        , 0.00076628, 0.        , 0.        , 0.00076628,\n",
       "        0.        , 0.        , 0.        , 0.        , 0.        ,\n",
       "        0.        , 0.        , 0.        ],\n",
       "       [0.        , 0.        , 0.        , 0.        , 0.        ,\n",
       "        0.        , 0.        , 0.        , 0.        , 0.        ,\n",
       "        0.        , 0.        , 0.        , 0.        , 0.        ,\n",
       "        0.        , 0.        , 0.        , 0.        , 0.        ,\n",
       "        0.        , 0.        , 0.00153257, 0.        , 0.        ,\n",
       "        0.00153257, 0.00229885, 0.00153257]])"
      ]
     },
     "execution_count": 121,
     "metadata": {},
     "output_type": "execute_result"
    }
   ],
   "source": [
    "fdp_prov_year = pandas.crosstab(index=dataset['provincia'],\n",
    "                            columns=dataset['year'],margins=False,normalize=True)\n",
    "fdp_conj = fdp_prov_year.values\n",
    "fdp_conj"
   ]
  },
  {
   "cell_type": "markdown",
   "metadata": {},
   "source": [
    "Finalmente, calculamos la diferencia entre una matriz y la otra. Además, tomamos el valor absoluto, para que nos posibilite obtener conclusiones gráficas."
   ]
  },
  {
   "cell_type": "code",
   "execution_count": 122,
   "metadata": {
    "collapsed": true
   },
   "outputs": [
    {
     "data": {
      "text/plain": [
       "array([[ 1.56439970e-01,  1.49352879e-01,  1.26942871e-01,\n",
       "         1.20956883e-01,  4.58258497e-02,  3.18912185e-02,\n",
       "         1.10614120e-02,  8.42774247e-03,  5.26733904e-03,\n",
       "         4.74060514e-03,  2.92085381e-03,  2.63366952e-03,\n",
       "        -1.19774810e-03,  1.10110247e-03,  1.10110247e-03,\n",
       "         8.13918188e-04,  1.58020171e-03, -1.48493239e-03,\n",
       "        -7.18648862e-04, -1.48493239e-03, -5.07680039e-03,\n",
       "        -5.84308392e-03, -1.50384862e-02, -1.49138103e-01,\n",
       "        -1.25143764e-01, -3.70211588e-02, -1.78017327e-01,\n",
       "        -1.42768285e-01],\n",
       "       [ 1.87535619e-02,  1.79958423e-02,  1.52175368e-02,\n",
       "         1.47755336e-02,  5.49346764e-03,  3.91488498e-03,\n",
       "         1.32600943e-03,  1.01029290e-03,  6.31433062e-04,\n",
       "         5.68289755e-04,  4.42003143e-04,  3.15716531e-04,\n",
       "         3.15716531e-04,  3.15716531e-04,  3.15716531e-04,\n",
       "         1.89429918e-04,  1.89429918e-04,  1.89429918e-04,\n",
       "         1.89429918e-04,  1.89429918e-04,  1.26286612e-04,\n",
       "         1.26286612e-04,  1.26286612e-04,  1.26286612e-04,\n",
       "         6.31433062e-05,  6.31433062e-05, -7.03140219e-04,\n",
       "         6.31433062e-05],\n",
       "       [ 8.33491641e-03,  7.99815211e-03,  3.69821558e-03,\n",
       "         6.56690384e-03,  2.44154117e-03,  1.73994888e-03,\n",
       "         5.89337524e-04,  4.49019066e-04,  2.80636916e-04,\n",
       "         2.52573225e-04,  1.96445841e-04,  1.40318458e-04,\n",
       "         1.40318458e-04,  1.40318458e-04,  1.40318458e-04,\n",
       "         8.41910749e-05,  8.41910749e-05,  8.41910749e-05,\n",
       "         8.41910749e-05,  8.41910749e-05,  5.61273833e-05,\n",
       "         5.61273833e-05, -5.30785729e-03, -6.07414082e-03,\n",
       "        -2.27078688e-03, -2.27078688e-03, -2.27078688e-03,\n",
       "        -7.38219833e-04],\n",
       "       [ 5.93061360e-03,  5.69099285e-03,  4.81238343e-03,\n",
       "         4.67260466e-03,  1.73725045e-03,  1.23804055e-03,\n",
       "         4.19336315e-04,  3.19494335e-04,  1.99683960e-04,\n",
       "         1.79715564e-04,  1.39778772e-04,  9.98419798e-05,\n",
       "         9.98419798e-05, -1.43272507e-03,  9.98419798e-05,\n",
       "         5.99051879e-05,  5.99051879e-05,  5.99051879e-05,\n",
       "         5.99051879e-05,  5.99051879e-05, -2.25891378e-03,\n",
       "         3.99367919e-05, -2.25891378e-03, -4.55776436e-03,\n",
       "        -6.87658333e-03, -1.51259865e-03, -1.51259865e-03,\n",
       "        -5.34401628e-03],\n",
       "       [ 3.88203524e-03,  4.46050791e-03,  3.77186809e-03,\n",
       "         2.12974471e-03,  1.36162873e-03,  9.70356107e-04,\n",
       "        -4.37614521e-04, -5.15869046e-04, -6.09774475e-04,\n",
       "         1.40858145e-04, -6.56727190e-04, -1.45431253e-03,\n",
       "         7.82545247e-05, -1.45431253e-03,  7.82545247e-05,\n",
       "        -7.19330810e-04, -7.19330810e-04,  4.69527148e-05,\n",
       "        -7.19330810e-04, -3.78446491e-03, -7.34981715e-04,\n",
       "        -1.50126524e-03, -7.63153344e-03, -1.75932193e-02,\n",
       "        -1.83751537e-02, -7.64718434e-03, -8.41346787e-03,\n",
       "        -9.17975139e-03],\n",
       "       [ 4.32774506e-03,  4.15288667e-03,  3.51173926e-03,\n",
       "         3.40973853e-03,  1.26772330e-03,  9.03434996e-04,\n",
       "         3.06002176e-04,  2.33144515e-04,  1.45715322e-04,\n",
       "         1.31143790e-04,  1.02000725e-04,  7.28576610e-05,\n",
       "         7.28576610e-05,  7.28576610e-05,  7.28576610e-05,\n",
       "         4.37145966e-05,  4.37145966e-05,  4.37145966e-05,\n",
       "         4.37145966e-05,  4.37145966e-05,  2.91430644e-05,\n",
       "         2.91430644e-05,  2.91430644e-05, -1.50342399e-03,\n",
       "         1.45715322e-05, -7.51711993e-04, -7.51711993e-04,\n",
       "         1.45715322e-05],\n",
       "       [ 3.36602394e-03,  3.23002297e-03,  2.73135276e-03,\n",
       "         2.65201886e-03,  9.86007012e-04,  7.02671663e-04,\n",
       "         2.38001692e-04,  1.81334623e-04,  1.13334139e-04,\n",
       "         1.02000725e-04,  7.93338975e-05,  5.66670696e-05,\n",
       "         5.66670696e-05,  5.66670696e-05,  5.66670696e-05,\n",
       "         3.40002418e-05,  3.40002418e-05,  3.40002418e-05,\n",
       "         3.40002418e-05,  3.40002418e-05, -1.50990022e-03,\n",
       "        -2.27618375e-03, -3.04246727e-03, -3.80875080e-03,\n",
       "        -3.05380069e-03, -9.95035241e-03, -8.41778536e-03,\n",
       "        -7.65150184e-03],\n",
       "       [ 3.20573708e-03,  3.07621235e-03,  2.60128834e-03,\n",
       "         2.52573225e-03,  9.39054297e-04,  6.69211108e-04,\n",
       "         2.26668279e-04,  1.72699641e-04,  1.07937275e-04,\n",
       "         9.71435479e-05,  7.55560928e-05,  5.39686377e-05,\n",
       "         5.39686377e-05,  5.39686377e-05,  5.39686377e-05,\n",
       "         3.23811826e-05,  3.23811826e-05,  3.23811826e-05,\n",
       "         3.23811826e-05,  3.23811826e-05,  2.15874551e-05,\n",
       "         2.15874551e-05, -7.44696070e-04,  2.15874551e-05,\n",
       "        -6.11947447e-03,  1.07937275e-05,  1.07937275e-05,\n",
       "         1.07937275e-05],\n",
       "       [ 2.72487652e-03,  2.61478050e-03,  2.21109509e-03,\n",
       "         2.14687241e-03,  7.98196152e-04,  5.68829442e-04,\n",
       "         1.92668037e-04,  1.46794695e-04,  9.17466842e-05,\n",
       "         8.25720158e-05,  6.42226789e-05,  4.58733421e-05,\n",
       "        -7.20410183e-04,  4.58733421e-05,  4.58733421e-05,\n",
       "         2.75240053e-05,  2.75240053e-05,  2.75240053e-05,\n",
       "         2.75240053e-05,  2.75240053e-05,  1.83493368e-05,\n",
       "         1.83493368e-05,  1.83493368e-05, -2.28050124e-03,\n",
       "        -2.28967591e-03, -7.57108856e-04, -7.57108856e-04,\n",
       "        -7.57108856e-04],\n",
       "       [ 2.72487652e-03,  2.61478050e-03,  2.21109509e-03,\n",
       "         2.14687241e-03,  7.98196152e-04,  5.68829442e-04,\n",
       "         1.92668037e-04,  1.46794695e-04,  9.17466842e-05,\n",
       "         8.25720158e-05, -7.02060846e-04,  4.58733421e-05,\n",
       "         4.58733421e-05,  4.58733421e-05,  4.58733421e-05,\n",
       "         2.75240053e-05,  2.75240053e-05,  2.75240053e-05,\n",
       "        -7.38759520e-04,  2.75240053e-05, -7.47934188e-04,\n",
       "         1.83493368e-05, -7.47934188e-04, -7.47934188e-04,\n",
       "        -7.57108856e-04, -7.57108856e-04,  9.17466842e-06,\n",
       "         9.17466842e-06],\n",
       "       [ 1.76315540e-03,  1.69191679e-03,  1.43070859e-03,\n",
       "         1.38915274e-03,  5.16479863e-04,  3.68066109e-04,\n",
       "         1.24667553e-04,  9.49848024e-05,  5.93655015e-05,\n",
       "         5.34289514e-05,  4.15558511e-05,  2.96827508e-05,\n",
       "         2.96827508e-05,  2.96827508e-05,  2.96827508e-05,\n",
       "         1.78096505e-05,  1.78096505e-05,  1.78096505e-05,\n",
       "         1.78096505e-05,  1.78096505e-05,  1.18731003e-05,\n",
       "         1.18731003e-05, -7.54410425e-04, -3.81954452e-03,\n",
       "         5.93655015e-06,  5.93655015e-06, -3.05919755e-03,\n",
       "         5.93655015e-06],\n",
       "       [ 1.60286854e-03,  1.53810618e-03,  1.30064417e-03,\n",
       "         1.26286612e-03,  4.69527148e-04,  3.34605554e-04,\n",
       "         1.13334139e-04,  8.63498204e-05,  5.39686377e-05,\n",
       "        -7.17711751e-04,  3.77780464e-05,  2.69843189e-05,\n",
       "         2.69843189e-05,  2.69843189e-05,  2.69843189e-05,\n",
       "         1.61905913e-05, -7.50092934e-04,  1.61905913e-05,\n",
       "         1.61905913e-05,  1.61905913e-05, -2.28805685e-03,\n",
       "        -7.55489797e-04,  1.07937275e-05,  1.07937275e-05,\n",
       "         5.39686377e-06,  5.39686377e-06,  5.39686377e-06,\n",
       "         5.39686377e-06],\n",
       "       [ 1.60286854e-03,  1.53810618e-03,  5.34360645e-04,\n",
       "         1.26286612e-03,  4.69527148e-04,  3.34605554e-04,\n",
       "         1.13334139e-04,  8.63498204e-05,  5.39686377e-05,\n",
       "         4.85717740e-05,  3.77780464e-05,  2.69843189e-05,\n",
       "         2.69843189e-05, -7.39299206e-04,  2.69843189e-05,\n",
       "         1.61905913e-05,  1.61905913e-05,  1.61905913e-05,\n",
       "         1.61905913e-05,  1.61905913e-05,  1.07937275e-05,\n",
       "         1.07937275e-05,  1.07937275e-05, -3.05434037e-03,\n",
       "        -3.05973724e-03, -1.52717019e-03, -1.52717019e-03,\n",
       "        -1.52717019e-03],\n",
       "       [ 1.60286854e-03,  1.53810618e-03,  1.30064417e-03,\n",
       "         1.26286612e-03,  4.69527148e-04,  3.34605554e-04,\n",
       "         1.13334139e-04,  8.63498204e-05,  5.39686377e-05,\n",
       "         4.85717740e-05,  3.77780464e-05,  2.69843189e-05,\n",
       "         2.69843189e-05, -1.50558273e-03,  2.69843189e-05,\n",
       "         1.61905913e-05,  1.61905913e-05,  1.61905913e-05,\n",
       "         1.61905913e-05,  1.61905913e-05,  1.07937275e-05,\n",
       "         1.07937275e-05, -1.52177332e-03, -1.52177332e-03,\n",
       "        -3.05973724e-03,  5.39686377e-06,  5.39686377e-06,\n",
       "        -7.60886661e-04],\n",
       "       [ 1.60286854e-03,  1.53810618e-03,  1.30064417e-03,\n",
       "         1.26286612e-03,  4.69527148e-04, -4.31677971e-04,\n",
       "         1.13334139e-04,  8.63498204e-05, -7.12314887e-04,\n",
       "         4.85717740e-05,  3.77780464e-05,  2.69843189e-05,\n",
       "         2.69843189e-05,  2.69843189e-05,  2.69843189e-05,\n",
       "         1.61905913e-05,  1.61905913e-05, -7.50092934e-04,\n",
       "         1.61905913e-05,  1.61905913e-05,  1.07937275e-05,\n",
       "         1.07937275e-05, -6.88575800e-03, -3.05434037e-03,\n",
       "        -1.52717019e-03, -7.60886661e-04,  5.39686377e-06,\n",
       "         5.39686377e-06],\n",
       "       [ 1.44258169e-03,  1.38429556e-03,  1.17057975e-03,\n",
       "         1.13657951e-03,  4.22574434e-04,  3.01144999e-04,\n",
       "         1.02000725e-04,  7.77148384e-05,  4.85717740e-05,\n",
       "         4.37145966e-05,  3.40002418e-05,  2.42858870e-05,\n",
       "         2.42858870e-05,  2.42858870e-05,  2.42858870e-05,\n",
       "        -7.51711993e-04,  1.45715322e-05,  1.45715322e-05,\n",
       "         1.45715322e-05,  1.45715322e-05,  9.71435479e-06,\n",
       "        -7.56569170e-04,  9.71435479e-06, -4.58798679e-03,\n",
       "        -5.35912750e-03,  4.85717740e-06, -5.35912750e-03,\n",
       "        -2.29399340e-03],\n",
       "       [ 1.44258169e-03,  1.38429556e-03,  1.17057975e-03,\n",
       "         1.13657951e-03,  4.22574434e-04,  3.01144999e-04,\n",
       "         1.02000725e-04,  7.77148384e-05,  4.85717740e-05,\n",
       "         4.37145966e-05,  3.40002418e-05, -7.41997638e-04,\n",
       "         2.42858870e-05,  2.42858870e-05,  2.42858870e-05,\n",
       "         1.45715322e-05,  1.45715322e-05,  1.45715322e-05,\n",
       "         1.45715322e-05,  1.45715322e-05, -7.56569170e-04,\n",
       "         9.71435479e-06,  9.71435479e-06, -1.52285270e-03,\n",
       "        -7.61426348e-04,  4.85717740e-06, -7.65797807e-03,\n",
       "        -7.61426348e-04],\n",
       "       [ 9.61721125e-04,  9.22863705e-04,  7.80386502e-04,\n",
       "         7.57719674e-04,  2.81716289e-04,  2.00763332e-04,\n",
       "         6.80004836e-05,  5.18098922e-05,  3.23811826e-05,\n",
       "         2.91430644e-05,  2.26668279e-05,  1.61905913e-05,\n",
       "         1.61905913e-05,  1.61905913e-05,  1.61905913e-05,\n",
       "         9.71435479e-06,  9.71435479e-06,  9.71435479e-06,\n",
       "         9.71435479e-06,  9.71435479e-06,  6.47623653e-06,\n",
       "         6.47623653e-06,  6.47623653e-06,  6.47623653e-06,\n",
       "         3.23811826e-06,  3.23811826e-06, -2.29561246e-03,\n",
       "         3.23811826e-06],\n",
       "       [ 8.01434271e-04,  7.69053088e-04,  6.50322085e-04,\n",
       "         6.31433062e-04, -1.29780348e-03,  1.67302777e-04,\n",
       "         5.66670696e-05,  4.31749102e-05,  2.69843189e-05,\n",
       "         2.42858870e-05,  1.88890232e-05,  1.34921594e-05,\n",
       "         1.34921594e-05,  1.34921594e-05,  1.34921594e-05,\n",
       "         8.09529566e-06,  8.09529566e-06,  8.09529566e-06,\n",
       "         8.09529566e-06,  8.09529566e-06,  5.39686377e-06,\n",
       "         5.39686377e-06,  5.39686377e-06, -7.60886661e-04,\n",
       "         2.69843189e-06,  2.69843189e-06,  2.69843189e-06,\n",
       "         2.69843189e-06],\n",
       "       [ 6.41147416e-04,  6.15242470e-04,  5.20257668e-04,\n",
       "         5.05146449e-04,  1.87810859e-04,  1.33842222e-04,\n",
       "         4.53336557e-05,  3.45399282e-05,  2.15874551e-05,\n",
       "         1.94287096e-05,  1.51112186e-05,  1.07937275e-05,\n",
       "         1.07937275e-05,  1.07937275e-05,  1.07937275e-05,\n",
       "         6.47623653e-06,  6.47623653e-06,  6.47623653e-06,\n",
       "         6.47623653e-06,  6.47623653e-06, -1.52824956e-03,\n",
       "         4.31749102e-06,  4.31749102e-06, -7.61966034e-04,\n",
       "         2.15874551e-06,  2.15874551e-06, -7.64124779e-04,\n",
       "         2.15874551e-06],\n",
       "       [ 6.41147416e-04,  6.15242470e-04,  5.20257668e-04,\n",
       "         5.05146449e-04,  1.87810859e-04, -6.32441303e-04,\n",
       "         4.53336557e-05,  3.45399282e-05,  2.15874551e-05,\n",
       "         1.94287096e-05,  1.51112186e-05,  1.07937275e-05,\n",
       "        -7.55489797e-04,  1.07937275e-05,  1.07937275e-05,\n",
       "         6.47623653e-06,  6.47623653e-06,  6.47623653e-06,\n",
       "         6.47623653e-06,  6.47623653e-06,  4.31749102e-06,\n",
       "         4.31749102e-06,  4.31749102e-06, -6.12595071e-03,\n",
       "        -1.53040830e-03, -1.53040830e-03,  2.15874551e-06,\n",
       "        -3.82925888e-03],\n",
       "       [ 4.80860562e-04,  4.61431853e-04,  3.90193251e-04,\n",
       "         3.78859837e-04,  1.40858145e-04,  1.00381666e-04,\n",
       "         3.40002418e-05,  2.59049461e-05,  1.61905913e-05,\n",
       "         1.45715322e-05,  1.13334139e-05,  8.09529566e-06,\n",
       "         8.09529566e-06,  8.09529566e-06,  8.09529566e-06,\n",
       "         4.85717740e-06,  4.85717740e-06,  4.85717740e-06,\n",
       "         4.85717740e-06,  4.85717740e-06,  3.23811826e-06,\n",
       "         3.23811826e-06,  3.23811826e-06, -2.29561246e-03,\n",
       "        -7.64664466e-04,  1.61905913e-06, -3.06351504e-03,\n",
       "        -1.53094799e-03],\n",
       "       [ 3.20573708e-04,  3.07621235e-04,  2.60128834e-04,\n",
       "         2.52573225e-04,  9.39054297e-05,  6.69211108e-05,\n",
       "         2.26668279e-05,  1.72699641e-05,  1.07937275e-05,\n",
       "         9.71435479e-06,  7.55560928e-06,  5.39686377e-06,\n",
       "         5.39686377e-06,  5.39686377e-06,  5.39686377e-06,\n",
       "         3.23811826e-06, -7.63045407e-04,  3.23811826e-06,\n",
       "         3.23811826e-06, -7.63045407e-04,  2.15874551e-06,\n",
       "         2.15874551e-06,  2.15874551e-06,  2.15874551e-06,\n",
       "         1.07937275e-06,  1.07937275e-06,  1.07937275e-06,\n",
       "         1.07937275e-06],\n",
       "       [ 3.20573708e-04,  3.07621235e-04,  2.60128834e-04,\n",
       "         2.52573225e-04,  9.39054297e-05,  6.69211108e-05,\n",
       "         2.26668279e-05,  1.72699641e-05,  1.07937275e-05,\n",
       "         9.71435479e-06,  7.55560928e-06,  5.39686377e-06,\n",
       "         5.39686377e-06,  5.39686377e-06,  5.39686377e-06,\n",
       "         3.23811826e-06,  3.23811826e-06,  3.23811826e-06,\n",
       "         3.23811826e-06,  3.23811826e-06,  2.15874551e-06,\n",
       "         2.15874551e-06, -1.53040830e-03,  2.15874551e-06,\n",
       "         1.07937275e-06, -1.53148768e-03, -2.29777120e-03,\n",
       "        -1.53148768e-03]])"
      ]
     },
     "execution_count": 122,
     "metadata": {},
     "output_type": "execute_result"
    }
   ],
   "source": [
    "diferencia = prod_p_tot - fdp_conj\n",
    "diferencia"
   ]
  },
  {
   "cell_type": "code",
   "execution_count": 123,
   "metadata": {
    "scrolled": false
   },
   "outputs": [
    {
     "data": {
      "image/png": "[encoded data removed]",
      "text/plain": [
       "<matplotlib.figure.Figure at 0x2189d7759e8>"
      ]
     },
     "metadata": {},
     "output_type": "display_data"
    }
   ],
   "source": [
    "import matplotlib.pyplot as plt\n",
    "ax = seaborn.heatmap(numpy.absolute(diferencia), linewidth=0.5,cmap=\"YlGnBu\",vmin = 0)\n",
    "plt.show()"
   ]
  },
  {
   "cell_type": "markdown",
   "metadata": {},
   "source": [
    "Luego, dada la muestra, **no podemos concluir que se trate de eventos independientes**, ya que el valor de la diferencia se aleja de cero en muchos de los casos."
   ]
  },
  {
   "cell_type": "markdown",
   "metadata": {},
   "source": [
    "Para representar las **probabilidades conjuntas por provincia y año**, elegimos dos tipos de gráficos:\n",
    "* Un heatmap, y\n",
    "* Un gráfico de barras apiladas por provincia."
   ]
  },
  {
   "cell_type": "code",
   "execution_count": 124,
   "metadata": {},
   "outputs": [
    {
     "data": {
      "text/plain": [
       "Text(0.5,10.9,'Año')"
      ]
     },
     "execution_count": 124,
     "metadata": {},
     "output_type": "execute_result"
    },
    {
     "data": {
      "image/png": "[encoded data removed]",
      "text/plain": [
       "<matplotlib.figure.Figure at 0x2189c59d940>"
      ]
     },
     "metadata": {},
     "output_type": "display_data"
    }
   ],
   "source": [
    "tabla_prov_anio_graph = pandas.crosstab(index=dataset['provincia'],columns=dataset['year'],margins=False,normalize=True)\n",
    "\n",
    "heatMap = seaborn.heatmap(tabla_prov_anio_graph, linewidth=0.5,cmap=\"YlGnBu\")\n",
    "heatMap.set_ylabel('Provincia')\n",
    "heatMap.set_xlabel('Año')\n"
   ]
  },
  {
   "cell_type": "code",
   "execution_count": 125,
   "metadata": {
    "scrolled": true
   },
   "outputs": [
    {
     "data": {
      "text/plain": [
       "<matplotlib.axes._subplots.AxesSubplot at 0x2189d929710>"
      ]
     },
     "execution_count": 125,
     "metadata": {},
     "output_type": "execute_result"
    },
    {
     "data": {
      "image/png": "[encoded data removed]",
      "text/plain": [
       "<matplotlib.figure.Figure at 0x2189b1f30f0>"
      ]
     },
     "metadata": {},
     "output_type": "display_data"
    }
   ],
   "source": [
    "tabla_prov_anio_graph.transpose().apply(\n",
    "    lambda r: r/r.sum()*100,axis=0).plot(kind='barh',stacked=True, logx=True, figsize=(15,12))"
   ]
  },
  {
   "cell_type": "markdown",
   "metadata": {},
   "source": [
    "## Ejercicio 4\n",
    "\n",
    "Dada la variable aleatoria Z = ’contexto1 en el que se produjo el hecho’, calcular la probabilidad que el hecho sea producido en una dependencia de una fuerza de seguridad (penal, comisaría, etc)\n",
    "\n",
    "$$ fdp(z=penal ~~ |~~  z=comisaria ~~ | ...) $$"
   ]
  },
  {
   "cell_type": "markdown",
   "metadata": {},
   "source": [
    "Inicialmente, calculamos la **frecuencia de probabilidades** de los eventos, de acuerdo al contexto (campo *contexto1*) en el que se produjo el hecho de violencia:"
   ]
  },
  {
   "cell_type": "code",
   "execution_count": 39,
   "metadata": {},
   "outputs": [
    {
     "data": {
      "text/plain": [
       "Penal / Complejo Penitenciario PROVINCIAL                              0.365343\n",
       "Penal / Complejo Penitenciario FEDERAL                                 0.321300\n",
       "Espacio Público                                                        0.153069\n",
       "Comisaría                                                              0.091697\n",
       "Domicilio Particular                                                   0.016606\n",
       "Centros de Detención Previos al Juicio (Alcaidia)                      0.011552\n",
       "Móviles y medios de transporte de Fuerzas de Seguridad                 0.009386\n",
       "Lugar No Identificado                                                  0.008664\n",
       "Establecimiento de Salud Mental                                        0.005054\n",
       "Centros de Detención Preventiva                                        0.004332\n",
       "Hospital General                                                       0.003610\n",
       "Instalaciones de la Gendarmería Nacional                               0.002888\n",
       "Escuelas de Formación Fuerzas Provinciales                             0.002166\n",
       "Instalaciones de las Fuerzas Armadas (cuarteles, regimientos, etc.)    0.001444\n",
       "Centros de Alojamiento para Personas Menores de Edad                   0.001444\n",
       "Establecimiento de Rehabilitación de Adicciones                        0.000722\n",
       "Escuelas de Formación Fuerzas Nacionales                               0.000722\n",
       "Name: contexto1, dtype: float64"
      ]
     },
     "execution_count": 39,
     "metadata": {},
     "output_type": "execute_result"
    }
   ],
   "source": [
    "fdp_contexto = dataset.contexto1.value_counts(normalize=True)\n",
    "fdp_contexto"
   ]
  },
  {
   "cell_type": "markdown",
   "metadata": {},
   "source": [
    "Ahora, para calcular la probabilidad de que el hecho sea producido en una dependencia de una fuerza de seguridad, construimos un vector indicando cuáles de estos contextos representan una dependencia de una fuerza de seguridad.\n",
    "\n",
    "De este modo, tomaremos sólo estos contextos para finalmente calcular la **probabilidad conjunta** como la suma de las probabilidades de los contextos a considerar:"
   ]
  },
  {
   "cell_type": "code",
   "execution_count": 40,
   "metadata": {
    "scrolled": false
   },
   "outputs": [
    {
     "data": {
      "text/plain": [
       "0.8108303249097474"
      ]
     },
     "execution_count": 40,
     "metadata": {},
     "output_type": "execute_result"
    }
   ],
   "source": [
    "s = pandas.Series([True, True, False, True, False, True, True, False, False, True, False, True, True, True, False, False, True]\n",
    "                  , name='bools')\n",
    "\n",
    "fdp_contexto_filt = fdp_contexto[s.values]\n",
    "\n",
    "fdp_contexto_filt.sum('index')"
   ]
  },
  {
   "cell_type": "markdown",
   "metadata": {},
   "source": [
    "Luego, la probabilidad de que el hecho de violencia institucional sea producido en una dependencia de una fuerza de seguridad es de 0.8108."
   ]
  },
  {
   "cell_type": "markdown",
   "metadata": {},
   "source": [
    "## Ejercicio 5\n",
    "\n",
    "Dada la variable aleatoria M = ‘existió violencia fisica’:\n",
    "* ¿Que probabilidad existe que también tenga violencia psíquica? N = ‘existió violencia psíquica’:\n",
    "\n",
    "$$P(N~~|~~M)$$\n",
    "\n",
    "* ¿Qué conclusión se puede formular de los datos que tenemos y los datos que obtenemos de los métodos probabilísticos?\n",
    "* ¿Podemos concluir en que son eventos independientes dadas las muestras?"
   ]
  },
  {
   "cell_type": "markdown",
   "metadata": {},
   "source": [
    "Primero exploramos los datos, para hacer un análisis de las categorías. De este modo podremos definir las variables aleatorias M = 'Existió Violencia Física' y N = 'Existió Violencia Psíquica'. Luego, obtenemos la tabla de frecuencias para ambos campos."
   ]
  },
  {
   "cell_type": "code",
   "execution_count": 61,
   "metadata": {
    "collapsed": true
   },
   "outputs": [
    {
     "data": {
      "text/plain": [
       "NaN                                                                                                                                                                           849\n",
       "Golpes                                                                                                                                                                        230\n",
       "Muerte                                                                                                                                                                        102\n",
       "Heridas penetrantes                                                                                                                                                            39\n",
       "Otras formas de maltrato físico                                                                                                                                                32\n",
       "Golpes, Otras formas de maltrato físico                                                                                                                                        28\n",
       "Muerte, Heridas penetrantes                                                                                                                                                    24\n",
       "Golpes, Heridas penetrantes                                                                                                                                                    20\n",
       "Quemaduras                                                                                                                                                                      8\n",
       "Golpes, Privación de la libertad / Secuestro                                                                                                                                    7\n",
       "Quemaduras, Golpes                                                                                                                                                              7\n",
       "Muerte, Golpes, Heridas penetrantes                                                                                                                                             7\n",
       "Privación de la libertad / Secuestro                                                                                                                                            7\n",
       "Muerte, Golpes                                                                                                                                                                  6\n",
       "Ninguno                                                                                                                                                                         5\n",
       "Golpes, Sometimiento a corriente eléctrica                                                                                                                                      4\n",
       "Quemaduras, Golpes, Otras formas de maltrato físico                                                                                                                             4\n",
       "Golpes, Sometimiento a posturas forzadas                                                                                                                                        4\n",
       "Asfixia, Golpes                                                                                                                                                                 4\n",
       "Desaparición (forzada)                                                                                                                                                          4\n",
       "Muerte, Quemaduras                                                                                                                                                              3\n",
       "Asfixia, Muerte                                                                                                                                                                 3\n",
       "Asfixia, Golpes, Sometimiento a corriente eléctrica, Otras formas de maltrato físico                                                                                            2\n",
       "Heridas penetrantes, Otras formas de maltrato físico                                                                                                                            2\n",
       "Privación de la libertad / Secuestro, Otras formas de maltrato físico                                                                                                           2\n",
       "Asfixia, Golpes, Otras formas de maltrato físico                                                                                                                                2\n",
       "Asfixia, Caídas provocadas, Quemaduras, Golpes, Heridas penetrantes, Sometimiento a posturas forzadas, Sometimiento a corriente eléctrica, Otras formas de maltrato físico      2\n",
       "Sometimiento a posturas forzadas                                                                                                                                                2\n",
       "Caídas provocadas, Golpes                                                                                                                                                       2\n",
       "Golpes, Heridas penetrantes, Otras formas de maltrato físico                                                                                                                    2\n",
       "Muerte, Desaparición (forzada)                                                                                                                                                  1\n",
       "Quemaduras, Golpes, Heridas penetrantes                                                                                                                                         1\n",
       "Caídas provocadas, Golpes, Privación de la libertad / Secuestro, Otras formas de maltrato físico                                                                                1\n",
       "Golpes, Heridas penetrantes, Privación de la libertad / Secuestro, Otras formas de maltrato físico                                                                              1\n",
       "Asfixia, Golpes, Sometimiento a posturas forzadas                                                                                                                               1\n",
       "Muerte, Quemaduras, Golpes                                                                                                                                                      1\n",
       "Golpes, Sometimiento a posturas forzadas, Otras formas de maltrato físico                                                                                                       1\n",
       "Asfixia, Caídas provocadas, Golpes, Otras formas de maltrato físico                                                                                                             1\n",
       "Caídas provocadas, Muerte, Heridas penetrantes                                                                                                                                  1\n",
       "Muerte, Golpes, Privación de la libertad / Secuestro, Desaparición (forzada)                                                                                                    1\n",
       "Golpes, Privación de la libertad / Secuestro, Otras formas de maltrato físico                                                                                                   1\n",
       "Muerte, Heridas penetrantes, Desaparición (forzada)                                                                                                                             1\n",
       "Asfixia, Muerte, Golpes, Sometimiento a corriente eléctrica                                                                                                                     1\n",
       "Muerte, Golpes, Privación de la libertad / Secuestro                                                                                                                            1\n",
       "Asfixia, Muerte, Golpes, Privación de la libertad / Secuestro, Otras formas de maltrato físico                                                                                  1\n",
       "Asfixia, Caídas provocadas, Golpes                                                                                                                                              1\n",
       "Quemaduras, Golpes, Privación de la libertad / Secuestro                                                                                                                        1\n",
       "Muerte, Otras formas de maltrato físico                                                                                                                                         1\n",
       "Muerte, Golpes, Desaparición (forzada)                                                                                                                                          1\n",
       "Golpes, Heridas penetrantes, Privación de la libertad / Secuestro                                                                                                               1\n",
       "Asfixia, Golpes, Sometimiento a corriente eléctrica                                                                                                                             1\n",
       "Golpes, Desaparición (forzada)                                                                                                                                                  1\n",
       "Muerte, Privación de la libertad / Secuestro                                                                                                                                    1\n",
       "Golpes, Sometimiento a posturas forzadas, Privación de la libertad / Secuestro, Otras formas de maltrato físico                                                                 1\n",
       "Golpes, Privación de la libertad / Secuestro, Sometimiento a corriente eléctrica, Otras formas de maltrato físico                                                               1\n",
       "Caídas provocadas                                                                                                                                                               1\n",
       "Name: violencia_fisica, dtype: int64"
      ]
     },
     "execution_count": 61,
     "metadata": {},
     "output_type": "execute_result"
    }
   ],
   "source": [
    "dataset['violencia_fisica'].value_counts(dropna=False)"
   ]
  },
  {
   "cell_type": "code",
   "execution_count": 87,
   "metadata": {
    "collapsed": true
   },
   "outputs": [
    {
     "data": {
      "text/plain": [
       "NaN                                                                                                                                                                                                               952\n",
       "Otras formas de maltrato psicológico                                                                                                                                                                              152\n",
       "Alejamiento de vínculos                                                                                                                                                                                            78\n",
       "Amenazas                                                                                                                                                                                                           62\n",
       "Restricción injustificada derechos al trabajo y la educación                                                                                                                                                       38\n",
       "Hostigamiento, Amenazas                                                                                                                                                                                            24\n",
       "Restricción injustificada de contacto                                                                                                                                                                              18\n",
       "Ablandamiento                                                                                                                                                                                                      14\n",
       "Hostigamiento                                                                                                                                                                                                      12\n",
       "Alejamiento de vínculos, Restricción injustificada de contacto                                                                                                                                                      7\n",
       "Disparos intimidatorios                                                                                                                                                                                             7\n",
       "Ablandamiento, Alejamiento de vínculos                                                                                                                                                                              7\n",
       "Otras formas de maltrato psicológico, Amenazas                                                                                                                                                                      6\n",
       "Extorsión, forzamiento de la conducta, incitación a la violencia                                                                                                                                                    5\n",
       "Restricción injustificada derechos al trabajo y la educación, Alejamiento de vínculos                                                                                                                               4\n",
       "Restricción injustificada derechos al trabajo y la educación, Otras formas de maltrato psicológico                                                                                                                  3\n",
       "Otras formas de maltrato psicológico, Alejamiento de vínculos                                                                                                                                                       3\n",
       "Otras formas de maltrato psicológico, Extorsión, forzamiento de la conducta, incitación a la violencia                                                                                                              3\n",
       "Ninguno                                                                                                                                                                                                             3\n",
       "Hostigamiento, Otras formas de maltrato psicológico, Amenazas                                                                                                                                                       3\n",
       "Hostigamiento, Extorsión, forzamiento de la conducta, incitación a la violencia, Amenazas                                                                                                                           3\n",
       "Amenazas, Restricción injustificada de contacto                                                                                                                                                                     3\n",
       "Amenazas, Alejamiento de vínculos                                                                                                                                                                                   2\n",
       "Hostigamiento, Otras formas de maltrato psicológico                                                                                                                                                                 2\n",
       "Ablandamiento, Amenazas                                                                                                                                                                                             2\n",
       "Amenazas, Disparos intimidatorios                                                                                                                                                                                   2\n",
       "Otras formas de maltrato psicológico, Ablandamiento                                                                                                                                                                 2\n",
       "Extorsión, forzamiento de la conducta, incitación a la violencia, Amenazas                                                                                                                                          2\n",
       "Amenazas de connotación sexual / de género                                                                                                                                                                          2\n",
       "Restricción injustificada derechos al trabajo y la educación, Ablandamiento, Alejamiento de vínculos                                                                                                                2\n",
       "Hostigamiento, Extorsión, forzamiento de la conducta, incitación a la violencia                                                                                                                                     2\n",
       "Hostigamiento, Restricción injustificada derechos al trabajo y la educación, Ablandamiento, Extorsión, forzamiento de la conducta, incitación a la violencia, Amenazas                                              1\n",
       "Restricción injustificada derechos al trabajo y la educación, Ablandamiento                                                                                                                                         1\n",
       "Otras formas de maltrato psicológico, Amenazas de connotación sexual / de género, Amenazas                                                                                                                          1\n",
       "Hostigamiento, Amenazas, Disparos intimidatorios                                                                                                                                                                    1\n",
       "Hostigamiento, Otras formas de maltrato psicológico, Extorsión, forzamiento de la conducta, incitación a la violencia, Amenazas de connotación sexual / de género                                                   1\n",
       "Alejamiento de vínculos, Disparos intimidatorios                                                                                                                                                                    1\n",
       "Hostigamiento, Otras formas de maltrato psicológico, Restricción injustificada de contacto                                                                                                                          1\n",
       "Restricción injustificada derechos al trabajo y la educación, Restricción injustificada de contacto                                                                                                                 1\n",
       "Extorsión, forzamiento de la conducta, incitación a la violencia, Amenazas, Disparos intimidatorios                                                                                                                 1\n",
       "Restricción injustificada derechos al trabajo y la educación, Otras formas de maltrato psicológico, Restricción injustificada de contacto                                                                           1\n",
       "Otras formas de maltrato psicológico, Amenazas, Restricción injustificada de contacto                                                                                                                               1\n",
       "Hostigamiento, Otras formas de maltrato psicológico, Ablandamiento, Extorsión, forzamiento de la conducta, incitación a la violencia, Amenazas, Alejamiento de vínculos, Restricción injustificada de contacto      1\n",
       "Otras formas de maltrato psicológico, Restricción injustificada de contacto                                                                                                                                         1\n",
       "Extorsión, forzamiento de la conducta, incitación a la violencia, Alejamiento de vínculos                                                                                                                           1\n",
       "Name: violencia_psiquica, dtype: int64"
      ]
     },
     "execution_count": 87,
     "metadata": {},
     "output_type": "execute_result"
    }
   ],
   "source": [
    "dataset['violencia_psiquica'].value_counts(dropna=False)"
   ]
  },
  {
   "cell_type": "markdown",
   "metadata": {},
   "source": [
    "Para calcular la probabilidad condicional de N dado M, tendremos que calcular lo siguiente:\n",
    "\n",
    "$$P(N~~|~~M)=P(N \\cap M)~~/~~P(M)$$"
   ]
  },
  {
   "cell_type": "markdown",
   "metadata": {},
   "source": [
    "<div class=\"alert alert-block alert-info\">\n",
    "Por la estructura de los datos, entendemos que el método adecuado implica contar aquellos casos en los que **NO aparece información en el campo** como casos en los que **NO existió violencia**, tanto para violencia física como psíquica. Además, tampoco existe violencia si en el campo se indica **'Ninguno'**.\n",
    "</div>"
   ]
  },
  {
   "cell_type": "markdown",
   "metadata": {},
   "source": [
    "Definimos entonces nuestras variables aleatorias M y N:"
   ]
  },
  {
   "cell_type": "code",
   "execution_count": 88,
   "metadata": {
    "collapsed": true
   },
   "outputs": [
    {
     "data": {
      "text/plain": [
       "0       False\n",
       "1       False\n",
       "2       False\n",
       "3       False\n",
       "4        True\n",
       "5        True\n",
       "6       False\n",
       "7       False\n",
       "8       False\n",
       "9       False\n",
       "10      False\n",
       "11      False\n",
       "12      False\n",
       "13      False\n",
       "14       True\n",
       "15      False\n",
       "16      False\n",
       "17      False\n",
       "18      False\n",
       "19       True\n",
       "20       True\n",
       "21      False\n",
       "22      False\n",
       "23      False\n",
       "24      False\n",
       "25       True\n",
       "26      False\n",
       "27      False\n",
       "28      False\n",
       "29      False\n",
       "        ...  \n",
       "1409    False\n",
       "1410     True\n",
       "1411    False\n",
       "1412     True\n",
       "1413    False\n",
       "1414    False\n",
       "1415     True\n",
       "1416     True\n",
       "1417    False\n",
       "1418    False\n",
       "1419     True\n",
       "1420     True\n",
       "1421    False\n",
       "1422    False\n",
       "1423    False\n",
       "1424     True\n",
       "1425    False\n",
       "1426    False\n",
       "1427    False\n",
       "1428    False\n",
       "1429     True\n",
       "1430    False\n",
       "1431    False\n",
       "1432    False\n",
       "1433    False\n",
       "1434    False\n",
       "1435    False\n",
       "1436    False\n",
       "1437    False\n",
       "1438     True\n",
       "Name: violencia_fisica_bool, Length: 1439, dtype: bool"
      ]
     },
     "execution_count": 88,
     "metadata": {},
     "output_type": "execute_result"
    }
   ],
   "source": [
    "M_violencia_fisica = (dataset['violencia_fisica'] != 'Ninguno') & (dataset['violencia_fisica'].notnull())\n",
    "N_violencia_psiquica = (dataset['violencia_psiquica'] != 'Ninguno') & (dataset['violencia_psiquica'].notnull())\n",
    "\n",
    "dataset['violencia_fisica_bool'] = M_violencia_fisica\n",
    "dataset['violencia_psiquica_bool'] = N_violencia_psiquica\n",
    "\n",
    "dataset.violencia_fisica_bool"
   ]
  },
  {
   "cell_type": "markdown",
   "metadata": {},
   "source": [
    "Obtenemos $P(M)~~y~~(\\neg M)$ :"
   ]
  },
  {
   "cell_type": "code",
   "execution_count": 91,
   "metadata": {
    "scrolled": true
   },
   "outputs": [
    {
     "data": {
      "text/plain": [
       "False    0.593468\n",
       "True     0.406532\n",
       "Name: violencia_fisica_bool, dtype: float64"
      ]
     },
     "execution_count": 91,
     "metadata": {},
     "output_type": "execute_result"
    }
   ],
   "source": [
    "v_fis = dataset.violencia_fisica_bool.value_counts(normalize=True)\n",
    "v_fis"
   ]
  },
  {
   "cell_type": "code",
   "execution_count": 115,
   "metadata": {},
   "outputs": [
    {
     "name": "stdout",
     "output_type": "stream",
     "text": [
      "Probabilidad violencia fisica: 0.4065323141070188\n"
     ]
    }
   ],
   "source": [
    "print('Probabilidad Violencia Física: ' + str(v_fis.values[1]))"
   ]
  },
  {
   "cell_type": "markdown",
   "metadata": {},
   "source": [
    "Obtenemos $P(N)~~y~~(\\neg N)$ :"
   ]
  },
  {
   "cell_type": "code",
   "execution_count": 92,
   "metadata": {
    "scrolled": true
   },
   "outputs": [
    {
     "data": {
      "text/plain": [
       "False    0.663655\n",
       "True     0.336345\n",
       "Name: violencia_psiquica_bool, dtype: float64"
      ]
     },
     "execution_count": 92,
     "metadata": {},
     "output_type": "execute_result"
    }
   ],
   "source": [
    "v_psi = dataset.violencia_psiquica_bool.value_counts(normalize=True)\n",
    "v_psi"
   ]
  },
  {
   "cell_type": "code",
   "execution_count": 116,
   "metadata": {},
   "outputs": [
    {
     "name": "stdout",
     "output_type": "stream",
     "text": [
      "Probabilidad Violencia Psíquica: 0.33634468380820015\n"
     ]
    }
   ],
   "source": [
    "print('Probabilidad Violencia Psíquica: ' + str(v_psi.values[1]))"
   ]
  },
  {
   "cell_type": "markdown",
   "metadata": {},
   "source": [
    "Obtenemos $P(N \\cap M)$, a partir de la tabla de probabiliades para las dos variables:"
   ]
  },
  {
   "cell_type": "code",
   "execution_count": 97,
   "metadata": {
    "scrolled": true
   },
   "outputs": [
    {
     "data": {
      "text/html": [
       "<div>\n",
       "<style scoped>\n",
       "    .dataframe tbody tr th:only-of-type {\n",
       "        vertical-align: middle;\n",
       "    }\n",
       "\n",
       "    .dataframe tbody tr th {\n",
       "        vertical-align: top;\n",
       "    }\n",
       "\n",
       "    .dataframe thead th {\n",
       "        text-align: right;\n",
       "    }\n",
       "</style>\n",
       "<table border=\"1\" class=\"dataframe\">\n",
       "  <thead>\n",
       "    <tr style=\"text-align: right;\">\n",
       "      <th>violencia_fisica_bool</th>\n",
       "      <th>False</th>\n",
       "      <th>True</th>\n",
       "      <th>All</th>\n",
       "    </tr>\n",
       "    <tr>\n",
       "      <th>violencia_psiquica_bool</th>\n",
       "      <th></th>\n",
       "      <th></th>\n",
       "      <th></th>\n",
       "    </tr>\n",
       "  </thead>\n",
       "  <tbody>\n",
       "    <tr>\n",
       "      <th>False</th>\n",
       "      <td>0.343294</td>\n",
       "      <td>0.320361</td>\n",
       "      <td>0.663655</td>\n",
       "    </tr>\n",
       "    <tr>\n",
       "      <th>True</th>\n",
       "      <td>0.250174</td>\n",
       "      <td>0.086171</td>\n",
       "      <td>0.336345</td>\n",
       "    </tr>\n",
       "    <tr>\n",
       "      <th>All</th>\n",
       "      <td>0.593468</td>\n",
       "      <td>0.406532</td>\n",
       "      <td>1.000000</td>\n",
       "    </tr>\n",
       "  </tbody>\n",
       "</table>\n",
       "</div>"
      ],
      "text/plain": [
       "violencia_fisica_bool       False      True       All\n",
       "violencia_psiquica_bool                              \n",
       "False                    0.343294  0.320361  0.663655\n",
       "True                     0.250174  0.086171  0.336345\n",
       "All                      0.593468  0.406532  1.000000"
      ]
     },
     "execution_count": 97,
     "metadata": {},
     "output_type": "execute_result"
    }
   ],
   "source": [
    "fdp_v_fis_psi = pandas.crosstab(index=dataset['violencia_psiquica_bool'],\n",
    "                            columns=dataset['violencia_fisica_bool'],margins=True,normalize=True)\n",
    "fdp_v_fis_psi"
   ]
  },
  {
   "cell_type": "markdown",
   "metadata": {},
   "source": [
    "La probabilidad conjunta de que exista violencia física y violencia psíquica es:"
   ]
  },
  {
   "cell_type": "code",
   "execution_count": 117,
   "metadata": {},
   "outputs": [
    {
     "name": "stdout",
     "output_type": "stream",
     "text": [
      "Probabilidad Violencia Física y Psíquica: 0.08617095205003475\n"
     ]
    }
   ],
   "source": [
    "print('Probabilidad Violencia Física y Psíquica: ' + str(fdp_v_fis_psi.values[1][1]))"
   ]
  },
  {
   "cell_type": "markdown",
   "metadata": {},
   "source": [
    "Finalmente, calculamos la **probabilidad condicional de que exista violencia psíquica, dado que existió violencia física** como:"
   ]
  },
  {
   "cell_type": "code",
   "execution_count": 118,
   "metadata": {
    "scrolled": true
   },
   "outputs": [
    {
     "name": "stdout",
     "output_type": "stream",
     "text": [
      "Probabilidad de Violencia Psíquica dado que Existió Violencia Física: 0.21196581196581196\n"
     ]
    }
   ],
   "source": [
    "x = fdp_v_fis_psi.values[1][1]/v_fis.values[1]\n",
    "print('Probabilidad de Violencia Psíquica dado que Existió Violencia Física: ' + str(x))"
   ]
  },
  {
   "cell_type": "markdown",
   "metadata": {},
   "source": [
    "Es decir, a partir de estos datos podemos **concluir** que existe una probabiliad de alrededor de 1/5 de que haya existido violencia psíquica, dado que existió violencia física.\n",
    "Además, en aproximadamente el 40% de los casos existió violencia física; mientras que en más del 30% existió violencia psíquica."
   ]
  },
  {
   "cell_type": "markdown",
   "metadata": {},
   "source": [
    "Para comprobar, en base a la muestra, si estos dos eventos son independientes o no, debemos verificar lo siguiente:\n",
    "\n",
    "$$ P(M \\cap N)=P(M).P(N) $$\n",
    "\n",
    "Si esta igualdad se cumple, las variables serán independientes.  De lo contrario, no lo serán. Esto implica que, para que las variables sean independientes, se tiene que cumplir que:\n",
    "\n",
    "$$ P(M \\cap N)-P(M).P(N)=0 $$"
   ]
  },
  {
   "cell_type": "markdown",
   "metadata": {},
   "source": [
    "Calculamos, por un lado, el producto de las probabilidades totales:"
   ]
  },
  {
   "cell_type": "code",
   "execution_count": 108,
   "metadata": {},
   "outputs": [
    {
     "data": {
      "text/plain": [
       "array([[0.39385798, 0.1996097 ],\n",
       "       [0.26979733, 0.13673498]])"
      ]
     },
     "execution_count": 108,
     "metadata": {},
     "output_type": "execute_result"
    }
   ],
   "source": [
    "prod_p_tot = numpy.outer(v_fis.values,v_psi.values)\n",
    "prod_p_tot"
   ]
  },
  {
   "cell_type": "markdown",
   "metadata": {},
   "source": [
    "Por el otro, tomamos las probabilidades conjuntas de la tabla de frecuencia de probabilidades ya elaborada:"
   ]
  },
  {
   "cell_type": "code",
   "execution_count": 111,
   "metadata": {},
   "outputs": [
    {
     "data": {
      "text/plain": [
       "array([[0.34329395, 0.32036136],\n",
       "       [0.25017373, 0.08617095]])"
      ]
     },
     "execution_count": 111,
     "metadata": {},
     "output_type": "execute_result"
    }
   ],
   "source": [
    "fdp_v_fis_psi = pandas.crosstab(index=dataset['violencia_psiquica_bool'],\n",
    "                            columns=dataset['violencia_fisica_bool'],margins=False,normalize=True)\n",
    "fdp_conj = fdp_v_fis_psi.values\n",
    "fdp_conj"
   ]
  },
  {
   "cell_type": "markdown",
   "metadata": {},
   "source": [
    "Finalmente, calculamos la diferencia entre una matriz y la otra. Además, tomamos el valor absoluto, para que nos posibilite obtener conclusiones gráficas."
   ]
  },
  {
   "cell_type": "code",
   "execution_count": 112,
   "metadata": {},
   "outputs": [
    {
     "data": {
      "text/plain": [
       "array([[ 0.05056403, -0.12075166],\n",
       "       [ 0.0196236 ,  0.05056403]])"
      ]
     },
     "execution_count": 112,
     "metadata": {},
     "output_type": "execute_result"
    }
   ],
   "source": [
    "diferencia = prod_p_tot - fdp_conj\n",
    "diferencia"
   ]
  },
  {
   "cell_type": "code",
   "execution_count": 114,
   "metadata": {},
   "outputs": [
    {
     "data": {
      "image/png": "[encoded data removed]",
      "text/plain": [
       "<matplotlib.figure.Figure at 0x2189c59d630>"
      ]
     },
     "metadata": {},
     "output_type": "display_data"
    }
   ],
   "source": [
    "import matplotlib.pyplot as plt\n",
    "ax = seaborn.heatmap(numpy.absolute(diferencia), linewidth=0.5,cmap=\"YlGnBu\",vmin = 0)\n",
    "plt.show()\n"
   ]
  },
  {
   "cell_type": "markdown",
   "metadata": {},
   "source": [
    "Luego, dada la muestra, **no podemos concluir que se trate de eventos independientes**, ya que el valor de la diferencia se aleja de cero en la mayor parte de los casos."
   ]
  }
 ],
 "metadata": {
  "kernelspec": {
   "display_name": "Python 3",
   "language": "python",
   "name": "python3"
  },
  "language_info": {
   "codemirror_mode": {
    "name": "ipython",
    "version": 3
   },
   "file_extension": ".py",
   "mimetype": "text/x-python",
   "name": "python",
   "nbconvert_exporter": "python",
   "pygments_lexer": "ipython3",
   "version": "3.6.4"
  }
 },
 "nbformat": 4,
 "nbformat_minor": 2
}
