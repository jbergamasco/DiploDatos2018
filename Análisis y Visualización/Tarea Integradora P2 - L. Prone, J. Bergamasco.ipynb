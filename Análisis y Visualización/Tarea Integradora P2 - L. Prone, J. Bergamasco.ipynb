{
 "cells": [
  {
   "cell_type": "markdown",
   "metadata": {},
   "source": [
    "<center>\n",
    "<h4>Diplomatura AACSyA 2018 - FaMAF - UNC</h4>\n",
    "<h3>Análisis y visualización de datos</h3>\n",
    "</center>\n",
    "\n",
    "# Tarea integradora - Parte 2\n",
    "\n",
    "En esta notebook trabajeremos con variables aleatorias contínuas y distribuciones de probabilidad conocidas. En lugar de la librería pandas, utilizaremos scipy que también implementa numerosas funciones útiles para proceso de datos numéricos."
   ]
  },
  {
   "cell_type": "markdown",
   "metadata": {},
   "source": [
    "## Ejercicio 1\n",
    "\n",
    "Desarrollar analíticamente el tiempo de vida en horas que una computadora funciona antes de descomponerse es una v.a.\n",
    "continua con f.d.p. dada por:\n",
    "\n",
    "$$\n",
    "f ( x ) = \\begin{cases}\n",
    "~~ 0.01e^{-0.01 x} & si ~~ x ≥ 0 \\\\\n",
    "~~ 0 & si ~~ x<0\n",
    "\\end{cases}\n",
    "$$\n",
    "\n",
    "* Hallar la F.d.a. de X\n",
    "\n",
    "* ¿Cuál es la probabilidad que la computadora funcione entre 50 y 150 horas antes de descomponerse?\n",
    "\n",
    "* ¿Cuál es la probabilidad que una computadora se descomponga antes de registrar 100 horas de uso?"
   ]
  },
  {
   "cell_type": "markdown",
   "metadata": {},
   "source": [
    "<div class=\"alert alert-block alert-success\">\n",
    "Resolución\n",
    "</div>"
   ]
  },
  {
   "cell_type": "markdown",
   "metadata": {},
   "source": [
    "El siguiente gráfico muestra la **función de densidad de la V.A. \"Tiempo de vida en horas que una computadora funciona antes de descomponerse\"**:"
   ]
  },
  {
   "cell_type": "code",
   "execution_count": 2,
   "metadata": {},
   "outputs": [
    {
     "data": {
      "text/plain": [
       "<matplotlib.figure.Figure at 0x277cb311a90>"
      ]
     },
     "metadata": {},
     "output_type": "display_data"
    }
   ],
   "source": [
    "import numpy as np\n",
    "import matplotlib.pyplot as plt\n",
    "\n",
    "x = np.arange(0, 1000, 0.01)\n",
    "y = 0.01 * np.exp(-0.01 * x)\n",
    "\n",
    "plt.plot(x, y)\n",
    "plt.title('Funcion de probabilidad puntual')\n",
    "plt.xlabel('Tiempo')\n",
    "plt.ylabel('Probabilidad')\n",
    "plt.show()"
   ]
  },
  {
   "cell_type": "markdown",
   "metadata": {},
   "source": [
    "Obtenemos así la **F.d.a de la V.A.** mencionada anteriormente:"
   ]
  },
  {
   "cell_type": "code",
   "execution_count": 6,
   "metadata": {},
   "outputs": [
    {
     "data": {
      "image/png": "[encoded data removed]",
      "text/plain": [
       "<matplotlib.figure.Figure at 0x277cc59a898>"
      ]
     },
     "metadata": {},
     "output_type": "display_data"
    }
   ],
   "source": [
    "x = np.arange(0, 1000, 0.01)\n",
    "y = 1 - np.exp(-0.01 * x)\n",
    "\n",
    "plt.plot(x, y)\n",
    "plt.title('Funcion de probabilidad Acumulada')\n",
    "plt.xlabel('Tiempo')\n",
    "plt.ylabel('Probabilidad')\n",
    "plt.show()"
   ]
  },
  {
   "cell_type": "markdown",
   "metadata": {},
   "source": [
    "La probabilidad de que la computadora funcione entre 50 y 150 horas antes de descomponerse se calcula como sigue:\n",
    "$$P(50<x<150)$$"
   ]
  },
  {
   "cell_type": "code",
   "execution_count": 8,
   "metadata": {},
   "outputs": [
    {
     "data": {
      "text/plain": [
       "0.38340049956420363"
      ]
     },
     "execution_count": 8,
     "metadata": {},
     "output_type": "execute_result"
    }
   ],
   "source": [
    "t1 = 50\n",
    "t2 = 150\n",
    "l = 0.01\n",
    "y = (1 - np.exp(-l * t2)) - (1 - np.exp(-l * t1))\n",
    "y"
   ]
  },
  {
   "cell_type": "markdown",
   "metadata": {},
   "source": [
    "La probabilidad de que una computadora se descomponga antes de registrar 100 horas de uso es la siguiente:\n",
    "$$P(x<100)$$"
   ]
  },
  {
   "cell_type": "code",
   "execution_count": 10,
   "metadata": {},
   "outputs": [
    {
     "data": {
      "text/plain": [
       "0.6321205588285577"
      ]
     },
     "execution_count": 10,
     "metadata": {},
     "output_type": "execute_result"
    }
   ],
   "source": [
    "t1 = 0\n",
    "t2 = 100\n",
    "l = 0.01\n",
    "y = (1 - np.exp(-l * t2)) - (1 - np.exp(-l * t1))\n",
    "y"
   ]
  },
  {
   "cell_type": "markdown",
   "metadata": {},
   "source": [
    "## Ejercicio 2\n",
    "\n",
    "Modificar los valores de mu, sigma y el rango de la siguiente distribución normal. Escribir un breve resumen sobre como se \n",
    "relacionan estas variables sobre el dibujo de la campana de Gauss."
   ]
  },
  {
   "cell_type": "markdown",
   "metadata": {},
   "source": [
    "Luego de modificar los valores de mu y sigma observamos:\n",
    "* El valor de mu es un parámetro de posición, desplaza la campana en el eje x siendo el valor de mu el correspondiente al centro de la campana y valor máximo de la curva.\n",
    "* El valor de sigma es un parámetro de escala, determina el ancho de la campana. Un valor menor de sigma indica poca dispersion en los datos y un valor mayor indica registros mas alejados de la media.\n",
    "\n",
    "Mu define el valor medio de la variable y sigma la diferencia promedio de los valores con respecto a este valor medio."
   ]
  }
 ],
 "metadata": {
  "kernelspec": {
   "display_name": "Python 3",
   "language": "python",
   "name": "python3"
  },
  "language_info": {
   "codemirror_mode": {
    "name": "ipython",
    "version": 3
   },
   "file_extension": ".py",
   "mimetype": "text/x-python",
   "name": "python",
   "nbconvert_exporter": "python",
   "pygments_lexer": "ipython3",
   "version": "3.6.4"
  }
 },
 "nbformat": 4,
 "nbformat_minor": 2
}
